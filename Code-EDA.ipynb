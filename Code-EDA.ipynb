{
 "cells": [
  {
   "cell_type": "markdown",
   "metadata": {},
   "source": [
    "## Case-Study-EDA"
   ]
  },
  {
   "cell_type": "markdown",
   "metadata": {},
   "source": [
    "### Real world datasets - ML Project"
   ]
  },
  {
   "cell_type": "markdown",
   "metadata": {},
   "source": [
    "#### **0) Goal (What to expect as end result?)**\n",
    "- To do some comparision between the 2 datasets / Understanding of vehicle sales in India\n",
    "- Also can I do some predictions with that?"
   ]
  },
  {
   "cell_type": "markdown",
   "metadata": {},
   "source": [
    "#### **1) Dataset Download**\n",
    "- **Dataset-1: Electric Vehicle Sales in India**\n",
    "    - **Reference:** https://www.kaggle.com/datasets/praveenchoudhary1217/electric-vehicle-sales-in-india\n",
    "    - **Columns (Features):** Year, 2W, 3W, 4W, Bus, Total\n",
    "    - **Data Types:** Date, Decimal, Decimal, Decimal, Decimal, Decimal\n",
    "    - **Row count:** 74\n",
    "\n",
    "- **Dataset-2: Overall Vehicle Sales in India**\n",
    "    - **Reference:** https://datasource.kapsarc.org/explore/dataset/sales-of-motor-vehicles-in-indiaincluding-exports/information/\n",
    "    - **Columns (Features):** Year, Type, Value\n",
    "    - **Data Types:** Date, Text, Decimal\n",
    "    - **Row count:** 136\n"
   ]
  },
  {
   "cell_type": "markdown",
   "metadata": {},
   "source": [
    "#### **2.1)Prepare the Datasets (Understanding, Statistical Analysis, Cleaning, and Preprocessing)**"
   ]
  },
  {
   "cell_type": "markdown",
   "metadata": {},
   "source": [
    "##### Understanding Datasets & Statistical Analysis"
   ]
  },
  {
   "cell_type": "code",
   "execution_count": 1,
   "metadata": {},
   "outputs": [],
   "source": [
    "import pandas as pd\n",
    "ev_df = pd.read_excel(\"Ev Sales.xlsx\")"
   ]
  },
  {
   "cell_type": "code",
   "execution_count": 2,
   "metadata": {},
   "outputs": [
    {
     "name": "stdout",
     "output_type": "stream",
     "text": [
      "<class 'pandas.core.frame.DataFrame'>\n",
      "RangeIndex: 74 entries, 0 to 73\n",
      "Data columns (total 6 columns):\n",
      " #   Column  Non-Null Count  Dtype         \n",
      "---  ------  --------------  -----         \n",
      " 0   YEAR    74 non-null     datetime64[ns]\n",
      " 1   2 W     74 non-null     int64         \n",
      " 2   3 W     74 non-null     int64         \n",
      " 3   4 W     74 non-null     int64         \n",
      " 4   BUS     74 non-null     int64         \n",
      " 5   TOTAL   74 non-null     int64         \n",
      "dtypes: datetime64[ns](1), int64(5)\n",
      "memory usage: 3.6 KB\n"
     ]
    }
   ],
   "source": [
    "ev_df.info()"
   ]
  },
  {
   "cell_type": "code",
   "execution_count": 3,
   "metadata": {},
   "outputs": [
    {
     "data": {
      "text/html": [
       "<div>\n",
       "<style scoped>\n",
       "    .dataframe tbody tr th:only-of-type {\n",
       "        vertical-align: middle;\n",
       "    }\n",
       "\n",
       "    .dataframe tbody tr th {\n",
       "        vertical-align: top;\n",
       "    }\n",
       "\n",
       "    .dataframe thead th {\n",
       "        text-align: right;\n",
       "    }\n",
       "</style>\n",
       "<table border=\"1\" class=\"dataframe\">\n",
       "  <thead>\n",
       "    <tr style=\"text-align: right;\">\n",
       "      <th></th>\n",
       "      <th>YEAR</th>\n",
       "      <th>2 W</th>\n",
       "      <th>3 W</th>\n",
       "      <th>4 W</th>\n",
       "      <th>BUS</th>\n",
       "      <th>TOTAL</th>\n",
       "    </tr>\n",
       "  </thead>\n",
       "  <tbody>\n",
       "    <tr>\n",
       "      <th>count</th>\n",
       "      <td>74</td>\n",
       "      <td>74.000000</td>\n",
       "      <td>74.000000</td>\n",
       "      <td>74.000000</td>\n",
       "      <td>74.000000</td>\n",
       "      <td>74.000000</td>\n",
       "    </tr>\n",
       "    <tr>\n",
       "      <th>mean</th>\n",
       "      <td>2020-04-16 04:12:58.378378496</td>\n",
       "      <td>16938.729730</td>\n",
       "      <td>14851.351351</td>\n",
       "      <td>1272.567568</td>\n",
       "      <td>82.310811</td>\n",
       "      <td>33144.959459</td>\n",
       "    </tr>\n",
       "    <tr>\n",
       "      <th>min</th>\n",
       "      <td>2017-04-01 00:00:00</td>\n",
       "      <td>85.000000</td>\n",
       "      <td>668.000000</td>\n",
       "      <td>3.000000</td>\n",
       "      <td>0.000000</td>\n",
       "      <td>958.000000</td>\n",
       "    </tr>\n",
       "    <tr>\n",
       "      <th>25%</th>\n",
       "      <td>2018-10-08 18:00:00</td>\n",
       "      <td>1304.250000</td>\n",
       "      <td>7782.250000</td>\n",
       "      <td>187.750000</td>\n",
       "      <td>11.250000</td>\n",
       "      <td>9147.000000</td>\n",
       "    </tr>\n",
       "    <tr>\n",
       "      <th>50%</th>\n",
       "      <td>2020-04-16 00:00:00</td>\n",
       "      <td>3014.500000</td>\n",
       "      <td>10619.500000</td>\n",
       "      <td>317.500000</td>\n",
       "      <td>74.500000</td>\n",
       "      <td>14526.000000</td>\n",
       "    </tr>\n",
       "    <tr>\n",
       "      <th>75%</th>\n",
       "      <td>2021-10-24 06:00:00</td>\n",
       "      <td>23599.000000</td>\n",
       "      <td>18641.750000</td>\n",
       "      <td>1545.000000</td>\n",
       "      <td>113.500000</td>\n",
       "      <td>43902.750000</td>\n",
       "    </tr>\n",
       "    <tr>\n",
       "      <th>max</th>\n",
       "      <td>2023-05-01 00:00:00</td>\n",
       "      <td>105154.000000</td>\n",
       "      <td>45225.000000</td>\n",
       "      <td>8852.000000</td>\n",
       "      <td>331.000000</td>\n",
       "      <td>157788.000000</td>\n",
       "    </tr>\n",
       "    <tr>\n",
       "      <th>std</th>\n",
       "      <td>NaN</td>\n",
       "      <td>25846.636971</td>\n",
       "      <td>11002.517635</td>\n",
       "      <td>1841.195763</td>\n",
       "      <td>79.696672</td>\n",
       "      <td>38251.453387</td>\n",
       "    </tr>\n",
       "  </tbody>\n",
       "</table>\n",
       "</div>"
      ],
      "text/plain": [
       "                                YEAR            2 W           3 W  \\\n",
       "count                             74      74.000000     74.000000   \n",
       "mean   2020-04-16 04:12:58.378378496   16938.729730  14851.351351   \n",
       "min              2017-04-01 00:00:00      85.000000    668.000000   \n",
       "25%              2018-10-08 18:00:00    1304.250000   7782.250000   \n",
       "50%              2020-04-16 00:00:00    3014.500000  10619.500000   \n",
       "75%              2021-10-24 06:00:00   23599.000000  18641.750000   \n",
       "max              2023-05-01 00:00:00  105154.000000  45225.000000   \n",
       "std                              NaN   25846.636971  11002.517635   \n",
       "\n",
       "               4 W         BUS          TOTAL  \n",
       "count    74.000000   74.000000      74.000000  \n",
       "mean   1272.567568   82.310811   33144.959459  \n",
       "min       3.000000    0.000000     958.000000  \n",
       "25%     187.750000   11.250000    9147.000000  \n",
       "50%     317.500000   74.500000   14526.000000  \n",
       "75%    1545.000000  113.500000   43902.750000  \n",
       "max    8852.000000  331.000000  157788.000000  \n",
       "std    1841.195763   79.696672   38251.453387  "
      ]
     },
     "execution_count": 3,
     "metadata": {},
     "output_type": "execute_result"
    }
   ],
   "source": [
    "ev_df.describe()"
   ]
  },
  {
   "cell_type": "code",
   "execution_count": 4,
   "metadata": {},
   "outputs": [
    {
     "data": {
      "image/png": "[encoded data removed]",
      "text/plain": [
       "<Figure size 640x480 with 6 Axes>"
      ]
     },
     "metadata": {},
     "output_type": "display_data"
    }
   ],
   "source": [
    "import matplotlib.pyplot as plt\n",
    "\n",
    "fig, axes = plt.subplots(2,3)\n",
    "\n",
    "axes[0][0].boxplot(ev_df[\"2 W\"])\n",
    "axes[0][0].set_title(\"2 W\")\n",
    "\n",
    "axes[0][1].boxplot(ev_df[\"3 W\"])\n",
    "axes[0][1].set_title(\"3 W\")\n",
    "\n",
    "axes[0][2].boxplot(ev_df[\"4 W\"])\n",
    "axes[0][2].set_title(\"4 W\")\n",
    "\n",
    "axes[1][0].boxplot(ev_df[\"BUS\"])\n",
    "axes[1][0].set_title(\"BUS\")\n",
    "\n",
    "axes[1][1].boxplot(ev_df[\"TOTAL\"])\n",
    "axes[1][1].set_title(\"TOTAL\")\n",
    "\n",
    "plt.tight_layout()\n",
    "plt.show()"
   ]
  },
  {
   "cell_type": "code",
   "execution_count": 5,
   "metadata": {},
   "outputs": [],
   "source": [
    "all_df = pd.read_excel(\"All Vehicles Sales.xlsx\")"
   ]
  },
  {
   "cell_type": "code",
   "execution_count": 6,
   "metadata": {},
   "outputs": [
    {
     "name": "stdout",
     "output_type": "stream",
     "text": [
      "<class 'pandas.core.frame.DataFrame'>\n",
      "RangeIndex: 136 entries, 0 to 135\n",
      "Data columns (total 3 columns):\n",
      " #   Column  Non-Null Count  Dtype \n",
      "---  ------  --------------  ----- \n",
      " 0   Year    136 non-null    int64 \n",
      " 1   type    136 non-null    object\n",
      " 2   value   136 non-null    int64 \n",
      "dtypes: int64(2), object(1)\n",
      "memory usage: 3.3+ KB\n"
     ]
    }
   ],
   "source": [
    "all_df.info()"
   ]
  },
  {
   "cell_type": "code",
   "execution_count": 7,
   "metadata": {},
   "outputs": [
    {
     "data": {
      "text/html": [
       "<div>\n",
       "<style scoped>\n",
       "    .dataframe tbody tr th:only-of-type {\n",
       "        vertical-align: middle;\n",
       "    }\n",
       "\n",
       "    .dataframe tbody tr th {\n",
       "        vertical-align: top;\n",
       "    }\n",
       "\n",
       "    .dataframe thead th {\n",
       "        text-align: right;\n",
       "    }\n",
       "</style>\n",
       "<table border=\"1\" class=\"dataframe\">\n",
       "  <thead>\n",
       "    <tr style=\"text-align: right;\">\n",
       "      <th></th>\n",
       "      <th>Year</th>\n",
       "      <th>value</th>\n",
       "    </tr>\n",
       "  </thead>\n",
       "  <tbody>\n",
       "    <tr>\n",
       "      <th>count</th>\n",
       "      <td>136.000000</td>\n",
       "      <td>1.360000e+02</td>\n",
       "    </tr>\n",
       "    <tr>\n",
       "      <th>mean</th>\n",
       "      <td>2012.992647</td>\n",
       "      <td>5.343530e+06</td>\n",
       "    </tr>\n",
       "    <tr>\n",
       "      <th>std</th>\n",
       "      <td>3.817108</td>\n",
       "      <td>7.305202e+06</td>\n",
       "    </tr>\n",
       "    <tr>\n",
       "      <th>min</th>\n",
       "      <td>2007.000000</td>\n",
       "      <td>6.270000e+02</td>\n",
       "    </tr>\n",
       "    <tr>\n",
       "      <th>25%</th>\n",
       "      <td>2010.000000</td>\n",
       "      <td>4.831192e+05</td>\n",
       "    </tr>\n",
       "    <tr>\n",
       "      <th>50%</th>\n",
       "      <td>2013.000000</td>\n",
       "      <td>9.318980e+05</td>\n",
       "    </tr>\n",
       "    <tr>\n",
       "      <th>75%</th>\n",
       "      <td>2016.000000</td>\n",
       "      <td>8.958093e+06</td>\n",
       "    </tr>\n",
       "    <tr>\n",
       "      <th>max</th>\n",
       "      <td>2019.000000</td>\n",
       "      <td>2.626618e+07</td>\n",
       "    </tr>\n",
       "  </tbody>\n",
       "</table>\n",
       "</div>"
      ],
      "text/plain": [
       "              Year         value\n",
       "count   136.000000  1.360000e+02\n",
       "mean   2012.992647  5.343530e+06\n",
       "std       3.817108  7.305202e+06\n",
       "min    2007.000000  6.270000e+02\n",
       "25%    2010.000000  4.831192e+05\n",
       "50%    2013.000000  9.318980e+05\n",
       "75%    2016.000000  8.958093e+06\n",
       "max    2019.000000  2.626618e+07"
      ]
     },
     "execution_count": 7,
     "metadata": {},
     "output_type": "execute_result"
    }
   ],
   "source": [
    "all_df.describe()"
   ]
  },
  {
   "cell_type": "code",
   "execution_count": 8,
   "metadata": {},
   "outputs": [
    {
     "data": {
      "text/html": [
       "<div>\n",
       "<style scoped>\n",
       "    .dataframe tbody tr th:only-of-type {\n",
       "        vertical-align: middle;\n",
       "    }\n",
       "\n",
       "    .dataframe tbody tr th {\n",
       "        vertical-align: top;\n",
       "    }\n",
       "\n",
       "    .dataframe thead th {\n",
       "        text-align: right;\n",
       "    }\n",
       "</style>\n",
       "<table border=\"1\" class=\"dataframe\">\n",
       "  <thead>\n",
       "    <tr style=\"text-align: right;\">\n",
       "      <th></th>\n",
       "      <th>Year</th>\n",
       "      <th>type</th>\n",
       "      <th>value</th>\n",
       "    </tr>\n",
       "  </thead>\n",
       "  <tbody>\n",
       "    <tr>\n",
       "      <th>0</th>\n",
       "      <td>2007</td>\n",
       "      <td>M &amp; HCV</td>\n",
       "      <td>296675</td>\n",
       "    </tr>\n",
       "    <tr>\n",
       "      <th>1</th>\n",
       "      <td>2009</td>\n",
       "      <td>M &amp; HCV</td>\n",
       "      <td>265369</td>\n",
       "    </tr>\n",
       "    <tr>\n",
       "      <th>2</th>\n",
       "      <td>2009</td>\n",
       "      <td>LCVs</td>\n",
       "      <td>312361</td>\n",
       "    </tr>\n",
       "    <tr>\n",
       "      <th>3</th>\n",
       "      <td>2012</td>\n",
       "      <td>LCVs</td>\n",
       "      <td>585025</td>\n",
       "    </tr>\n",
       "    <tr>\n",
       "      <th>4</th>\n",
       "      <td>2017</td>\n",
       "      <td>LCVs</td>\n",
       "      <td>516135</td>\n",
       "    </tr>\n",
       "  </tbody>\n",
       "</table>\n",
       "</div>"
      ],
      "text/plain": [
       "   Year     type   value\n",
       "0  2007  M & HCV  296675\n",
       "1  2009  M & HCV  265369\n",
       "2  2009     LCVs  312361\n",
       "3  2012     LCVs  585025\n",
       "4  2017     LCVs  516135"
      ]
     },
     "execution_count": 8,
     "metadata": {},
     "output_type": "execute_result"
    }
   ],
   "source": [
    "all_df.head()"
   ]
  },
  {
   "cell_type": "code",
   "execution_count": 9,
   "metadata": {},
   "outputs": [
    {
     "data": {
      "text/plain": [
       "{'Electric Two-Wheelers',\n",
       " 'LCVs',\n",
       " 'M & HCV',\n",
       " 'Mopeds',\n",
       " 'Motor Cycles',\n",
       " 'Multi-Utility Vehivles',\n",
       " 'Passenger Cars',\n",
       " 'Quadricycle',\n",
       " 'Scooters',\n",
       " 'Total',\n",
       " 'Total Two-Wheelers',\n",
       " 'Total commercial Vehicles'}"
      ]
     },
     "execution_count": 9,
     "metadata": {},
     "output_type": "execute_result"
    }
   ],
   "source": [
    "set(all_df[\"type\"])"
   ]
  },
  {
   "cell_type": "code",
   "execution_count": 10,
   "metadata": {},
   "outputs": [
    {
     "data": {
      "text/plain": [
       "(136, 3)"
      ]
     },
     "execution_count": 10,
     "metadata": {},
     "output_type": "execute_result"
    }
   ],
   "source": [
    "all_df.shape"
   ]
  },
  {
   "cell_type": "code",
   "execution_count": 11,
   "metadata": {},
   "outputs": [
    {
     "data": {
      "text/html": [
       "<div>\n",
       "<style scoped>\n",
       "    .dataframe tbody tr th:only-of-type {\n",
       "        vertical-align: middle;\n",
       "    }\n",
       "\n",
       "    .dataframe tbody tr th {\n",
       "        vertical-align: top;\n",
       "    }\n",
       "\n",
       "    .dataframe thead th {\n",
       "        text-align: right;\n",
       "    }\n",
       "</style>\n",
       "<table border=\"1\" class=\"dataframe\">\n",
       "  <thead>\n",
       "    <tr style=\"text-align: right;\">\n",
       "      <th></th>\n",
       "      <th>YEAR</th>\n",
       "      <th>2 W</th>\n",
       "      <th>3 W</th>\n",
       "      <th>4 W</th>\n",
       "      <th>BUS</th>\n",
       "      <th>TOTAL</th>\n",
       "    </tr>\n",
       "  </thead>\n",
       "  <tbody>\n",
       "    <tr>\n",
       "      <th>0</th>\n",
       "      <td>2017-04-01</td>\n",
       "      <td>96</td>\n",
       "      <td>4748</td>\n",
       "      <td>198</td>\n",
       "      <td>0</td>\n",
       "      <td>5042</td>\n",
       "    </tr>\n",
       "    <tr>\n",
       "      <th>1</th>\n",
       "      <td>2017-05-01</td>\n",
       "      <td>91</td>\n",
       "      <td>6720</td>\n",
       "      <td>215</td>\n",
       "      <td>2</td>\n",
       "      <td>7028</td>\n",
       "    </tr>\n",
       "    <tr>\n",
       "      <th>2</th>\n",
       "      <td>2017-06-01</td>\n",
       "      <td>137</td>\n",
       "      <td>7178</td>\n",
       "      <td>149</td>\n",
       "      <td>1</td>\n",
       "      <td>7465</td>\n",
       "    </tr>\n",
       "    <tr>\n",
       "      <th>3</th>\n",
       "      <td>2017-07-01</td>\n",
       "      <td>116</td>\n",
       "      <td>8775</td>\n",
       "      <td>120</td>\n",
       "      <td>0</td>\n",
       "      <td>9011</td>\n",
       "    </tr>\n",
       "    <tr>\n",
       "      <th>4</th>\n",
       "      <td>2017-08-01</td>\n",
       "      <td>99</td>\n",
       "      <td>8905</td>\n",
       "      <td>137</td>\n",
       "      <td>0</td>\n",
       "      <td>9141</td>\n",
       "    </tr>\n",
       "  </tbody>\n",
       "</table>\n",
       "</div>"
      ],
      "text/plain": [
       "        YEAR  2 W   3 W  4 W  BUS  TOTAL\n",
       "0 2017-04-01   96  4748  198    0   5042\n",
       "1 2017-05-01   91  6720  215    2   7028\n",
       "2 2017-06-01  137  7178  149    1   7465\n",
       "3 2017-07-01  116  8775  120    0   9011\n",
       "4 2017-08-01   99  8905  137    0   9141"
      ]
     },
     "execution_count": 11,
     "metadata": {},
     "output_type": "execute_result"
    }
   ],
   "source": [
    "ev_df.head()"
   ]
  },
  {
   "cell_type": "markdown",
   "metadata": {},
   "source": [
    "##### Cleaning and Preprocessing Datasets"
   ]
  },
  {
   "cell_type": "code",
   "execution_count": 12,
   "metadata": {},
   "outputs": [],
   "source": [
    "# Extract only \"year\" from ev_df YEAR column\n",
    "\n",
    "def extract_year(x):\n",
    "    #return(x.year)\n",
    "    return(int(str(x).split(\"-\")[0]))\n",
    "\n",
    "def extract_month(x):\n",
    "    #return(x.year)\n",
    "    return(int(str(x).split(\"-\")[1]))\n",
    "\n",
    "ev_df[\"year\"] = ev_df[\"YEAR\"].map(extract_year)\n",
    "ev_df[\"month\"] = ev_df[\"YEAR\"].map(extract_month)"
   ]
  },
  {
   "cell_type": "code",
   "execution_count": 13,
   "metadata": {},
   "outputs": [],
   "source": [
    "# Dropped \"YEAR\" column\n",
    "ev_df = ev_df.drop(columns=[\"YEAR\"])"
   ]
  },
  {
   "cell_type": "code",
   "execution_count": 14,
   "metadata": {},
   "outputs": [
    {
     "data": {
      "text/html": [
       "<div>\n",
       "<style scoped>\n",
       "    .dataframe tbody tr th:only-of-type {\n",
       "        vertical-align: middle;\n",
       "    }\n",
       "\n",
       "    .dataframe tbody tr th {\n",
       "        vertical-align: top;\n",
       "    }\n",
       "\n",
       "    .dataframe thead th {\n",
       "        text-align: right;\n",
       "    }\n",
       "</style>\n",
       "<table border=\"1\" class=\"dataframe\">\n",
       "  <thead>\n",
       "    <tr style=\"text-align: right;\">\n",
       "      <th></th>\n",
       "      <th>2 W</th>\n",
       "      <th>3 W</th>\n",
       "      <th>4 W</th>\n",
       "      <th>BUS</th>\n",
       "      <th>TOTAL</th>\n",
       "      <th>year</th>\n",
       "      <th>month</th>\n",
       "    </tr>\n",
       "  </thead>\n",
       "  <tbody>\n",
       "    <tr>\n",
       "      <th>0</th>\n",
       "      <td>96</td>\n",
       "      <td>4748</td>\n",
       "      <td>198</td>\n",
       "      <td>0</td>\n",
       "      <td>5042</td>\n",
       "      <td>2017</td>\n",
       "      <td>4</td>\n",
       "    </tr>\n",
       "    <tr>\n",
       "      <th>1</th>\n",
       "      <td>91</td>\n",
       "      <td>6720</td>\n",
       "      <td>215</td>\n",
       "      <td>2</td>\n",
       "      <td>7028</td>\n",
       "      <td>2017</td>\n",
       "      <td>5</td>\n",
       "    </tr>\n",
       "    <tr>\n",
       "      <th>2</th>\n",
       "      <td>137</td>\n",
       "      <td>7178</td>\n",
       "      <td>149</td>\n",
       "      <td>1</td>\n",
       "      <td>7465</td>\n",
       "      <td>2017</td>\n",
       "      <td>6</td>\n",
       "    </tr>\n",
       "    <tr>\n",
       "      <th>3</th>\n",
       "      <td>116</td>\n",
       "      <td>8775</td>\n",
       "      <td>120</td>\n",
       "      <td>0</td>\n",
       "      <td>9011</td>\n",
       "      <td>2017</td>\n",
       "      <td>7</td>\n",
       "    </tr>\n",
       "    <tr>\n",
       "      <th>4</th>\n",
       "      <td>99</td>\n",
       "      <td>8905</td>\n",
       "      <td>137</td>\n",
       "      <td>0</td>\n",
       "      <td>9141</td>\n",
       "      <td>2017</td>\n",
       "      <td>8</td>\n",
       "    </tr>\n",
       "  </tbody>\n",
       "</table>\n",
       "</div>"
      ],
      "text/plain": [
       "   2 W   3 W  4 W  BUS  TOTAL  year  month\n",
       "0   96  4748  198    0   5042  2017      4\n",
       "1   91  6720  215    2   7028  2017      5\n",
       "2  137  7178  149    1   7465  2017      6\n",
       "3  116  8775  120    0   9011  2017      7\n",
       "4   99  8905  137    0   9141  2017      8"
      ]
     },
     "execution_count": 14,
     "metadata": {},
     "output_type": "execute_result"
    }
   ],
   "source": [
    "ev_df.head()"
   ]
  },
  {
   "cell_type": "code",
   "execution_count": 15,
   "metadata": {},
   "outputs": [
    {
     "data": {
      "text/html": [
       "<div>\n",
       "<style scoped>\n",
       "    .dataframe tbody tr th:only-of-type {\n",
       "        vertical-align: middle;\n",
       "    }\n",
       "\n",
       "    .dataframe tbody tr th {\n",
       "        vertical-align: top;\n",
       "    }\n",
       "\n",
       "    .dataframe thead th {\n",
       "        text-align: right;\n",
       "    }\n",
       "</style>\n",
       "<table border=\"1\" class=\"dataframe\">\n",
       "  <thead>\n",
       "    <tr style=\"text-align: right;\">\n",
       "      <th></th>\n",
       "      <th>Year</th>\n",
       "      <th>type</th>\n",
       "      <th>value</th>\n",
       "    </tr>\n",
       "  </thead>\n",
       "  <tbody>\n",
       "    <tr>\n",
       "      <th>0</th>\n",
       "      <td>2007</td>\n",
       "      <td>M &amp; HCV</td>\n",
       "      <td>296675</td>\n",
       "    </tr>\n",
       "    <tr>\n",
       "      <th>1</th>\n",
       "      <td>2009</td>\n",
       "      <td>M &amp; HCV</td>\n",
       "      <td>265369</td>\n",
       "    </tr>\n",
       "    <tr>\n",
       "      <th>2</th>\n",
       "      <td>2009</td>\n",
       "      <td>LCVs</td>\n",
       "      <td>312361</td>\n",
       "    </tr>\n",
       "    <tr>\n",
       "      <th>3</th>\n",
       "      <td>2012</td>\n",
       "      <td>LCVs</td>\n",
       "      <td>585025</td>\n",
       "    </tr>\n",
       "    <tr>\n",
       "      <th>4</th>\n",
       "      <td>2017</td>\n",
       "      <td>LCVs</td>\n",
       "      <td>516135</td>\n",
       "    </tr>\n",
       "  </tbody>\n",
       "</table>\n",
       "</div>"
      ],
      "text/plain": [
       "   Year     type   value\n",
       "0  2007  M & HCV  296675\n",
       "1  2009  M & HCV  265369\n",
       "2  2009     LCVs  312361\n",
       "3  2012     LCVs  585025\n",
       "4  2017     LCVs  516135"
      ]
     },
     "execution_count": 15,
     "metadata": {},
     "output_type": "execute_result"
    }
   ],
   "source": [
    "all_df.head()"
   ]
  },
  {
   "cell_type": "code",
   "execution_count": 16,
   "metadata": {},
   "outputs": [
    {
     "data": {
      "text/plain": [
       "count     136.000000\n",
       "mean     2012.992647\n",
       "std         3.817108\n",
       "min      2007.000000\n",
       "25%      2010.000000\n",
       "50%      2013.000000\n",
       "75%      2016.000000\n",
       "max      2019.000000\n",
       "Name: Year, dtype: float64"
      ]
     },
     "execution_count": 16,
     "metadata": {},
     "output_type": "execute_result"
    }
   ],
   "source": [
    "all_df[\"Year\"].describe()"
   ]
  },
  {
   "cell_type": "code",
   "execution_count": 17,
   "metadata": {},
   "outputs": [
    {
     "data": {
      "text/html": [
       "<div>\n",
       "<style scoped>\n",
       "    .dataframe tbody tr th:only-of-type {\n",
       "        vertical-align: middle;\n",
       "    }\n",
       "\n",
       "    .dataframe tbody tr th {\n",
       "        vertical-align: top;\n",
       "    }\n",
       "\n",
       "    .dataframe thead th {\n",
       "        text-align: right;\n",
       "    }\n",
       "</style>\n",
       "<table border=\"1\" class=\"dataframe\">\n",
       "  <thead>\n",
       "    <tr style=\"text-align: right;\">\n",
       "      <th></th>\n",
       "      <th>Year</th>\n",
       "      <th>type</th>\n",
       "      <th>value</th>\n",
       "    </tr>\n",
       "  </thead>\n",
       "  <tbody>\n",
       "    <tr>\n",
       "      <th>24</th>\n",
       "      <td>2015</td>\n",
       "      <td>Total</td>\n",
       "      <td>24112465</td>\n",
       "    </tr>\n",
       "    <tr>\n",
       "      <th>52</th>\n",
       "      <td>2013</td>\n",
       "      <td>Total</td>\n",
       "      <td>21533807</td>\n",
       "    </tr>\n",
       "    <tr>\n",
       "      <th>77</th>\n",
       "      <td>2007</td>\n",
       "      <td>Total</td>\n",
       "      <td>10892768</td>\n",
       "    </tr>\n",
       "    <tr>\n",
       "      <th>78</th>\n",
       "      <td>2010</td>\n",
       "      <td>Total</td>\n",
       "      <td>17852489</td>\n",
       "    </tr>\n",
       "    <tr>\n",
       "      <th>79</th>\n",
       "      <td>2012</td>\n",
       "      <td>Total</td>\n",
       "      <td>20714277</td>\n",
       "    </tr>\n",
       "    <tr>\n",
       "      <th>80</th>\n",
       "      <td>2017</td>\n",
       "      <td>Total</td>\n",
       "      <td>24981312</td>\n",
       "    </tr>\n",
       "    <tr>\n",
       "      <th>81</th>\n",
       "      <td>2019</td>\n",
       "      <td>Total</td>\n",
       "      <td>21546390</td>\n",
       "    </tr>\n",
       "    <tr>\n",
       "      <th>98</th>\n",
       "      <td>2011</td>\n",
       "      <td>Total</td>\n",
       "      <td>20299674</td>\n",
       "    </tr>\n",
       "    <tr>\n",
       "      <th>99</th>\n",
       "      <td>2018</td>\n",
       "      <td>Total</td>\n",
       "      <td>26266179</td>\n",
       "    </tr>\n",
       "    <tr>\n",
       "      <th>132</th>\n",
       "      <td>2008</td>\n",
       "      <td>Total</td>\n",
       "      <td>11254837</td>\n",
       "    </tr>\n",
       "    <tr>\n",
       "      <th>133</th>\n",
       "      <td>2009</td>\n",
       "      <td>Total</td>\n",
       "      <td>14099823</td>\n",
       "    </tr>\n",
       "    <tr>\n",
       "      <th>134</th>\n",
       "      <td>2014</td>\n",
       "      <td>Total</td>\n",
       "      <td>23326386</td>\n",
       "    </tr>\n",
       "    <tr>\n",
       "      <th>135</th>\n",
       "      <td>2016</td>\n",
       "      <td>Total</td>\n",
       "      <td>25344006</td>\n",
       "    </tr>\n",
       "  </tbody>\n",
       "</table>\n",
       "</div>"
      ],
      "text/plain": [
       "     Year   type     value\n",
       "24   2015  Total  24112465\n",
       "52   2013  Total  21533807\n",
       "77   2007  Total  10892768\n",
       "78   2010  Total  17852489\n",
       "79   2012  Total  20714277\n",
       "80   2017  Total  24981312\n",
       "81   2019  Total  21546390\n",
       "98   2011  Total  20299674\n",
       "99   2018  Total  26266179\n",
       "132  2008  Total  11254837\n",
       "133  2009  Total  14099823\n",
       "134  2014  Total  23326386\n",
       "135  2016  Total  25344006"
      ]
     },
     "execution_count": 17,
     "metadata": {},
     "output_type": "execute_result"
    }
   ],
   "source": [
    "all_df[all_df[\"type\"]==\"Total\"]\n",
    "\n",
    "# There are 13 Totals, which means 1 for each year"
   ]
  },
  {
   "cell_type": "code",
   "execution_count": 18,
   "metadata": {},
   "outputs": [
    {
     "data": {
      "text/plain": [
       "'\\nMAP:\\n \\'Mopeds\\': \"2 W\"\\n \\'Motor Cycles\\': \"2 W\"\\n \\'Multi-Utility Vehivles\\': \"4 W\"\\n \\'Passenger Cars\\': \"4 W\"\\n \\'Quadricycle\\': \"4 W\"\\n \\'Scooters\\': \"2 W\"\\n'"
      ]
     },
     "execution_count": 18,
     "metadata": {},
     "output_type": "execute_result"
    }
   ],
   "source": [
    "\"\"\"\n",
    "REMOVE:\n",
    "'Electric Two-Wheelers'\n",
    "'LCVs'\n",
    "'M & HCV'\n",
    "'Total'\n",
    "'Total Two-Wheelers'\n",
    "'Total commercial Vehicles'\n",
    "\"\"\"\n",
    "\n",
    "\"\"\"\n",
    "MAP:\n",
    " 'Mopeds': \"2 W\"\n",
    " 'Motor Cycles': \"2 W\"\n",
    " 'Multi-Utility Vehivles': \"4 W\"\n",
    " 'Passenger Cars': \"4 W\"\n",
    " 'Quadricycle': \"4 W\"\n",
    " 'Scooters': \"2 W\"\n",
    "\"\"\""
   ]
  },
  {
   "cell_type": "code",
   "execution_count": 19,
   "metadata": {},
   "outputs": [],
   "source": [
    "required_type_rows = []\n",
    "\n",
    "for idx, row in enumerate(all_df[\"type\"]):\n",
    "    if row in [\"Mopeds\", \"Motor Cycles\", \"Multi-Utility Vehivles\", \"Passenger Cars\", \"Quadricycle\", \"Scooters\"]:\n",
    "        required_type_rows.append(idx)\n",
    "\n",
    "new_all_df = all_df.loc[required_type_rows]"
   ]
  },
  {
   "cell_type": "code",
   "execution_count": 20,
   "metadata": {},
   "outputs": [
    {
     "data": {
      "text/html": [
       "<div>\n",
       "<style scoped>\n",
       "    .dataframe tbody tr th:only-of-type {\n",
       "        vertical-align: middle;\n",
       "    }\n",
       "\n",
       "    .dataframe tbody tr th {\n",
       "        vertical-align: top;\n",
       "    }\n",
       "\n",
       "    .dataframe thead th {\n",
       "        text-align: right;\n",
       "    }\n",
       "</style>\n",
       "<table border=\"1\" class=\"dataframe\">\n",
       "  <thead>\n",
       "    <tr style=\"text-align: right;\">\n",
       "      <th></th>\n",
       "      <th>Year</th>\n",
       "      <th>type</th>\n",
       "      <th>value</th>\n",
       "    </tr>\n",
       "  </thead>\n",
       "  <tbody>\n",
       "    <tr>\n",
       "      <th>8</th>\n",
       "      <td>2011</td>\n",
       "      <td>4 W</td>\n",
       "      <td>2532852</td>\n",
       "    </tr>\n",
       "    <tr>\n",
       "      <th>9</th>\n",
       "      <td>2015</td>\n",
       "      <td>4 W</td>\n",
       "      <td>2557727</td>\n",
       "    </tr>\n",
       "    <tr>\n",
       "      <th>10</th>\n",
       "      <td>2008</td>\n",
       "      <td>4 W</td>\n",
       "      <td>228655</td>\n",
       "    </tr>\n",
       "    <tr>\n",
       "      <th>11</th>\n",
       "      <td>2010</td>\n",
       "      <td>4 W</td>\n",
       "      <td>328001</td>\n",
       "    </tr>\n",
       "    <tr>\n",
       "      <th>12</th>\n",
       "      <td>2016</td>\n",
       "      <td>4 W</td>\n",
       "      <td>916255</td>\n",
       "    </tr>\n",
       "  </tbody>\n",
       "</table>\n",
       "</div>"
      ],
      "text/plain": [
       "    Year type    value\n",
       "8   2011  4 W  2532852\n",
       "9   2015  4 W  2557727\n",
       "10  2008  4 W   228655\n",
       "11  2010  4 W   328001\n",
       "12  2016  4 W   916255"
      ]
     },
     "execution_count": 20,
     "metadata": {},
     "output_type": "execute_result"
    }
   ],
   "source": [
    "vehicle_type_map = {\n",
    "'Mopeds': \"2 W\",\n",
    "'Motor Cycles': \"2 W\",\n",
    "'Multi-Utility Vehivles': \"4 W\",\n",
    "'Passenger Cars': \"4 W\",\n",
    "'Quadricycle': \"4 W\",\n",
    "'Scooters': \"2 W\"}\n",
    "\n",
    "# REPLACING \"type\" that matches with another dataset\n",
    "\n",
    "new_all_df[\"type\"] = new_all_df[\"type\"].map(vehicle_type_map)\n",
    "new_all_df.head()"
   ]
  },
  {
   "cell_type": "code",
   "execution_count": 21,
   "metadata": {},
   "outputs": [
    {
     "data": {
      "text/html": [
       "<div>\n",
       "<style scoped>\n",
       "    .dataframe tbody tr th:only-of-type {\n",
       "        vertical-align: middle;\n",
       "    }\n",
       "\n",
       "    .dataframe tbody tr th {\n",
       "        vertical-align: top;\n",
       "    }\n",
       "\n",
       "    .dataframe thead th {\n",
       "        text-align: right;\n",
       "    }\n",
       "</style>\n",
       "<table border=\"1\" class=\"dataframe\">\n",
       "  <thead>\n",
       "    <tr style=\"text-align: right;\">\n",
       "      <th></th>\n",
       "      <th>2 W</th>\n",
       "      <th>3 W</th>\n",
       "      <th>4 W</th>\n",
       "      <th>BUS</th>\n",
       "      <th>TOTAL</th>\n",
       "      <th>year</th>\n",
       "      <th>month</th>\n",
       "    </tr>\n",
       "  </thead>\n",
       "  <tbody>\n",
       "    <tr>\n",
       "      <th>0</th>\n",
       "      <td>96</td>\n",
       "      <td>4748</td>\n",
       "      <td>198</td>\n",
       "      <td>0</td>\n",
       "      <td>5042</td>\n",
       "      <td>2017</td>\n",
       "      <td>4</td>\n",
       "    </tr>\n",
       "    <tr>\n",
       "      <th>1</th>\n",
       "      <td>91</td>\n",
       "      <td>6720</td>\n",
       "      <td>215</td>\n",
       "      <td>2</td>\n",
       "      <td>7028</td>\n",
       "      <td>2017</td>\n",
       "      <td>5</td>\n",
       "    </tr>\n",
       "    <tr>\n",
       "      <th>2</th>\n",
       "      <td>137</td>\n",
       "      <td>7178</td>\n",
       "      <td>149</td>\n",
       "      <td>1</td>\n",
       "      <td>7465</td>\n",
       "      <td>2017</td>\n",
       "      <td>6</td>\n",
       "    </tr>\n",
       "    <tr>\n",
       "      <th>3</th>\n",
       "      <td>116</td>\n",
       "      <td>8775</td>\n",
       "      <td>120</td>\n",
       "      <td>0</td>\n",
       "      <td>9011</td>\n",
       "      <td>2017</td>\n",
       "      <td>7</td>\n",
       "    </tr>\n",
       "    <tr>\n",
       "      <th>4</th>\n",
       "      <td>99</td>\n",
       "      <td>8905</td>\n",
       "      <td>137</td>\n",
       "      <td>0</td>\n",
       "      <td>9141</td>\n",
       "      <td>2017</td>\n",
       "      <td>8</td>\n",
       "    </tr>\n",
       "  </tbody>\n",
       "</table>\n",
       "</div>"
      ],
      "text/plain": [
       "   2 W   3 W  4 W  BUS  TOTAL  year  month\n",
       "0   96  4748  198    0   5042  2017      4\n",
       "1   91  6720  215    2   7028  2017      5\n",
       "2  137  7178  149    1   7465  2017      6\n",
       "3  116  8775  120    0   9011  2017      7\n",
       "4   99  8905  137    0   9141  2017      8"
      ]
     },
     "execution_count": 21,
     "metadata": {},
     "output_type": "execute_result"
    }
   ],
   "source": [
    "ev_df.head()"
   ]
  },
  {
   "cell_type": "markdown",
   "metadata": {},
   "source": [
    "#### 2.2) Prepare the Datasets (Preprocessing - Filtering and Grouping)"
   ]
  },
  {
   "cell_type": "code",
   "execution_count": 22,
   "metadata": {},
   "outputs": [
    {
     "data": {
      "text/plain": [
       "{2007, 2008, 2009, 2010, 2011, 2012, 2013, 2014, 2015, 2016, 2017, 2018, 2019}"
      ]
     },
     "execution_count": 22,
     "metadata": {},
     "output_type": "execute_result"
    }
   ],
   "source": [
    "set(new_all_df[\"Year\"])"
   ]
  },
  {
   "cell_type": "code",
   "execution_count": 23,
   "metadata": {},
   "outputs": [
    {
     "data": {
      "text/plain": [
       "type\n",
       "2 W    39\n",
       "4 W    29\n",
       "Name: count, dtype: int64"
      ]
     },
     "execution_count": 23,
     "metadata": {},
     "output_type": "execute_result"
    }
   ],
   "source": [
    "new_all_df[\"type\"].value_counts()"
   ]
  },
  {
   "cell_type": "code",
   "execution_count": 24,
   "metadata": {},
   "outputs": [
    {
     "data": {
      "text/html": [
       "<div>\n",
       "<style scoped>\n",
       "    .dataframe tbody tr th:only-of-type {\n",
       "        vertical-align: middle;\n",
       "    }\n",
       "\n",
       "    .dataframe tbody tr th {\n",
       "        vertical-align: top;\n",
       "    }\n",
       "\n",
       "    .dataframe thead th {\n",
       "        text-align: right;\n",
       "    }\n",
       "</style>\n",
       "<table border=\"1\" class=\"dataframe\">\n",
       "  <thead>\n",
       "    <tr style=\"text-align: right;\">\n",
       "      <th></th>\n",
       "      <th>Year</th>\n",
       "      <th>type</th>\n",
       "      <th>value</th>\n",
       "    </tr>\n",
       "  </thead>\n",
       "  <tbody>\n",
       "    <tr>\n",
       "      <th>8</th>\n",
       "      <td>2011</td>\n",
       "      <td>4 W</td>\n",
       "      <td>2532852</td>\n",
       "    </tr>\n",
       "    <tr>\n",
       "      <th>9</th>\n",
       "      <td>2015</td>\n",
       "      <td>4 W</td>\n",
       "      <td>2557727</td>\n",
       "    </tr>\n",
       "    <tr>\n",
       "      <th>10</th>\n",
       "      <td>2008</td>\n",
       "      <td>4 W</td>\n",
       "      <td>228655</td>\n",
       "    </tr>\n",
       "    <tr>\n",
       "      <th>11</th>\n",
       "      <td>2010</td>\n",
       "      <td>4 W</td>\n",
       "      <td>328001</td>\n",
       "    </tr>\n",
       "    <tr>\n",
       "      <th>12</th>\n",
       "      <td>2016</td>\n",
       "      <td>4 W</td>\n",
       "      <td>916255</td>\n",
       "    </tr>\n",
       "    <tr>\n",
       "      <th>13</th>\n",
       "      <td>2017</td>\n",
       "      <td>4 W</td>\n",
       "      <td>922322</td>\n",
       "    </tr>\n",
       "    <tr>\n",
       "      <th>23</th>\n",
       "      <td>2018</td>\n",
       "      <td>4 W</td>\n",
       "      <td>627</td>\n",
       "    </tr>\n",
       "    <tr>\n",
       "      <th>36</th>\n",
       "      <td>2010</td>\n",
       "      <td>4 W</td>\n",
       "      <td>2430105</td>\n",
       "    </tr>\n",
       "    <tr>\n",
       "      <th>37</th>\n",
       "      <td>2012</td>\n",
       "      <td>4 W</td>\n",
       "      <td>2440127</td>\n",
       "    </tr>\n",
       "    <tr>\n",
       "      <th>38</th>\n",
       "      <td>2013</td>\n",
       "      <td>4 W</td>\n",
       "      <td>2338044</td>\n",
       "    </tr>\n",
       "    <tr>\n",
       "      <th>39</th>\n",
       "      <td>2019</td>\n",
       "      <td>4 W</td>\n",
       "      <td>946010</td>\n",
       "    </tr>\n",
       "    <tr>\n",
       "      <th>50</th>\n",
       "      <td>2016</td>\n",
       "      <td>4 W</td>\n",
       "      <td>1556</td>\n",
       "    </tr>\n",
       "    <tr>\n",
       "      <th>51</th>\n",
       "      <td>2019</td>\n",
       "      <td>4 W</td>\n",
       "      <td>942</td>\n",
       "    </tr>\n",
       "    <tr>\n",
       "      <th>59</th>\n",
       "      <td>2008</td>\n",
       "      <td>4 W</td>\n",
       "      <td>1552010</td>\n",
       "    </tr>\n",
       "    <tr>\n",
       "      <th>60</th>\n",
       "      <td>2017</td>\n",
       "      <td>4 W</td>\n",
       "      <td>2174024</td>\n",
       "    </tr>\n",
       "    <tr>\n",
       "      <th>61</th>\n",
       "      <td>2018</td>\n",
       "      <td>4 W</td>\n",
       "      <td>2218489</td>\n",
       "    </tr>\n",
       "    <tr>\n",
       "      <th>62</th>\n",
       "      <td>2019</td>\n",
       "      <td>4 W</td>\n",
       "      <td>1695441</td>\n",
       "    </tr>\n",
       "    <tr>\n",
       "      <th>63</th>\n",
       "      <td>2009</td>\n",
       "      <td>4 W</td>\n",
       "      <td>275563</td>\n",
       "    </tr>\n",
       "    <tr>\n",
       "      <th>64</th>\n",
       "      <td>2011</td>\n",
       "      <td>4 W</td>\n",
       "      <td>368993</td>\n",
       "    </tr>\n",
       "    <tr>\n",
       "      <th>65</th>\n",
       "      <td>2014</td>\n",
       "      <td>4 W</td>\n",
       "      <td>630723</td>\n",
       "    </tr>\n",
       "    <tr>\n",
       "      <th>88</th>\n",
       "      <td>2007</td>\n",
       "      <td>4 W</td>\n",
       "      <td>1414845</td>\n",
       "    </tr>\n",
       "    <tr>\n",
       "      <th>89</th>\n",
       "      <td>2013</td>\n",
       "      <td>4 W</td>\n",
       "      <td>569272</td>\n",
       "    </tr>\n",
       "    <tr>\n",
       "      <th>90</th>\n",
       "      <td>2018</td>\n",
       "      <td>4 W</td>\n",
       "      <td>941474</td>\n",
       "    </tr>\n",
       "    <tr>\n",
       "      <th>108</th>\n",
       "      <td>2009</td>\n",
       "      <td>4 W</td>\n",
       "      <td>1970046</td>\n",
       "    </tr>\n",
       "    <tr>\n",
       "      <th>109</th>\n",
       "      <td>2014</td>\n",
       "      <td>4 W</td>\n",
       "      <td>2418099</td>\n",
       "    </tr>\n",
       "    <tr>\n",
       "      <th>110</th>\n",
       "      <td>2016</td>\n",
       "      <td>4 W</td>\n",
       "      <td>2705981</td>\n",
       "    </tr>\n",
       "    <tr>\n",
       "      <th>111</th>\n",
       "      <td>2007</td>\n",
       "      <td>4 W</td>\n",
       "      <td>251567</td>\n",
       "    </tr>\n",
       "    <tr>\n",
       "      <th>112</th>\n",
       "      <td>2012</td>\n",
       "      <td>4 W</td>\n",
       "      <td>561921</td>\n",
       "    </tr>\n",
       "    <tr>\n",
       "      <th>113</th>\n",
       "      <td>2015</td>\n",
       "      <td>4 W</td>\n",
       "      <td>705317</td>\n",
       "    </tr>\n",
       "  </tbody>\n",
       "</table>\n",
       "</div>"
      ],
      "text/plain": [
       "     Year type    value\n",
       "8    2011  4 W  2532852\n",
       "9    2015  4 W  2557727\n",
       "10   2008  4 W   228655\n",
       "11   2010  4 W   328001\n",
       "12   2016  4 W   916255\n",
       "13   2017  4 W   922322\n",
       "23   2018  4 W      627\n",
       "36   2010  4 W  2430105\n",
       "37   2012  4 W  2440127\n",
       "38   2013  4 W  2338044\n",
       "39   2019  4 W   946010\n",
       "50   2016  4 W     1556\n",
       "51   2019  4 W      942\n",
       "59   2008  4 W  1552010\n",
       "60   2017  4 W  2174024\n",
       "61   2018  4 W  2218489\n",
       "62   2019  4 W  1695441\n",
       "63   2009  4 W   275563\n",
       "64   2011  4 W   368993\n",
       "65   2014  4 W   630723\n",
       "88   2007  4 W  1414845\n",
       "89   2013  4 W   569272\n",
       "90   2018  4 W   941474\n",
       "108  2009  4 W  1970046\n",
       "109  2014  4 W  2418099\n",
       "110  2016  4 W  2705981\n",
       "111  2007  4 W   251567\n",
       "112  2012  4 W   561921\n",
       "113  2015  4 W   705317"
      ]
     },
     "execution_count": 24,
     "metadata": {},
     "output_type": "execute_result"
    }
   ],
   "source": [
    "new_all_df[new_all_df[\"type\"]==\"4 W\"]"
   ]
  },
  {
   "cell_type": "code",
   "execution_count": 25,
   "metadata": {},
   "outputs": [],
   "source": [
    "#new_all_df.groupby(by=[\"Year\",\"type\"]).sum()\n",
    "\n",
    "groupby_output = new_all_df.groupby(by=[\"Year\",\"type\"]).sum()"
   ]
  },
  {
   "cell_type": "code",
   "execution_count": 26,
   "metadata": {},
   "outputs": [
    {
     "data": {
      "text/plain": [
       "Index(['value'], dtype='object')"
      ]
     },
     "execution_count": 26,
     "metadata": {},
     "output_type": "execute_result"
    }
   ],
   "source": [
    "groupby_output.columns"
   ]
  },
  {
   "cell_type": "code",
   "execution_count": 27,
   "metadata": {},
   "outputs": [
    {
     "data": {
      "text/html": [
       "<div>\n",
       "<style scoped>\n",
       "    .dataframe tbody tr th:only-of-type {\n",
       "        vertical-align: middle;\n",
       "    }\n",
       "\n",
       "    .dataframe tbody tr th {\n",
       "        vertical-align: top;\n",
       "    }\n",
       "\n",
       "    .dataframe thead th {\n",
       "        text-align: right;\n",
       "    }\n",
       "</style>\n",
       "<table border=\"1\" class=\"dataframe\">\n",
       "  <thead>\n",
       "    <tr style=\"text-align: right;\">\n",
       "      <th></th>\n",
       "      <th></th>\n",
       "      <th>value</th>\n",
       "    </tr>\n",
       "    <tr>\n",
       "      <th>Year</th>\n",
       "      <th>type</th>\n",
       "      <th></th>\n",
       "    </tr>\n",
       "  </thead>\n",
       "  <tbody>\n",
       "    <tr>\n",
       "      <th rowspan=\"2\" valign=\"top\">2007</th>\n",
       "      <th>2 W</th>\n",
       "      <td>8051923</td>\n",
       "    </tr>\n",
       "    <tr>\n",
       "      <th>4 W</th>\n",
       "      <td>1666412</td>\n",
       "    </tr>\n",
       "    <tr>\n",
       "      <th rowspan=\"2\" valign=\"top\">2008</th>\n",
       "      <th>2 W</th>\n",
       "      <td>8415308</td>\n",
       "    </tr>\n",
       "    <tr>\n",
       "      <th>4 W</th>\n",
       "      <td>1780665</td>\n",
       "    </tr>\n",
       "    <tr>\n",
       "      <th>2009</th>\n",
       "      <th>2 W</th>\n",
       "      <td>10508248</td>\n",
       "    </tr>\n",
       "  </tbody>\n",
       "</table>\n",
       "</div>"
      ],
      "text/plain": [
       "              value\n",
       "Year type          \n",
       "2007 2 W    8051923\n",
       "     4 W    1666412\n",
       "2008 2 W    8415308\n",
       "     4 W    1780665\n",
       "2009 2 W   10508248"
      ]
     },
     "execution_count": 27,
     "metadata": {},
     "output_type": "execute_result"
    }
   ],
   "source": [
    "groupby_output.head()"
   ]
  },
  {
   "cell_type": "code",
   "execution_count": 28,
   "metadata": {},
   "outputs": [
    {
     "data": {
      "text/plain": [
       "MultiIndex([(2007, '2 W'),\n",
       "            (2007, '4 W'),\n",
       "            (2008, '2 W'),\n",
       "            (2008, '4 W'),\n",
       "            (2009, '2 W')],\n",
       "           names=['Year', 'type'])"
      ]
     },
     "execution_count": 28,
     "metadata": {},
     "output_type": "execute_result"
    }
   ],
   "source": [
    "groupby_output.index[:5]"
   ]
  },
  {
   "cell_type": "code",
   "execution_count": 29,
   "metadata": {},
   "outputs": [
    {
     "data": {
      "text/html": [
       "<div>\n",
       "<style scoped>\n",
       "    .dataframe tbody tr th:only-of-type {\n",
       "        vertical-align: middle;\n",
       "    }\n",
       "\n",
       "    .dataframe tbody tr th {\n",
       "        vertical-align: top;\n",
       "    }\n",
       "\n",
       "    .dataframe thead th {\n",
       "        text-align: right;\n",
       "    }\n",
       "</style>\n",
       "<table border=\"1\" class=\"dataframe\">\n",
       "  <thead>\n",
       "    <tr style=\"text-align: right;\">\n",
       "      <th></th>\n",
       "      <th>0</th>\n",
       "      <th>1</th>\n",
       "    </tr>\n",
       "  </thead>\n",
       "  <tbody>\n",
       "    <tr>\n",
       "      <th>0</th>\n",
       "      <td>2007</td>\n",
       "      <td>2 W</td>\n",
       "    </tr>\n",
       "    <tr>\n",
       "      <th>1</th>\n",
       "      <td>2007</td>\n",
       "      <td>4 W</td>\n",
       "    </tr>\n",
       "    <tr>\n",
       "      <th>2</th>\n",
       "      <td>2008</td>\n",
       "      <td>2 W</td>\n",
       "    </tr>\n",
       "    <tr>\n",
       "      <th>3</th>\n",
       "      <td>2008</td>\n",
       "      <td>4 W</td>\n",
       "    </tr>\n",
       "    <tr>\n",
       "      <th>4</th>\n",
       "      <td>2009</td>\n",
       "      <td>2 W</td>\n",
       "    </tr>\n",
       "  </tbody>\n",
       "</table>\n",
       "</div>"
      ],
      "text/plain": [
       "      0    1\n",
       "0  2007  2 W\n",
       "1  2007  4 W\n",
       "2  2008  2 W\n",
       "3  2008  4 W\n",
       "4  2009  2 W"
      ]
     },
     "execution_count": 29,
     "metadata": {},
     "output_type": "execute_result"
    }
   ],
   "source": [
    "pd.DataFrame(list(groupby_output.index)).head()"
   ]
  },
  {
   "cell_type": "code",
   "execution_count": 30,
   "metadata": {},
   "outputs": [],
   "source": [
    "# Instead of doing concat operation on 2 DataFrames (i.e) DataFrame-1 \"Year\" & \"Type\", and DataFrame-2 \"Value\"\n",
    "# We just run reset_index() function on the groupby_output\n",
    "\n",
    "required_all_df = groupby_output.reset_index()"
   ]
  },
  {
   "cell_type": "code",
   "execution_count": 31,
   "metadata": {},
   "outputs": [
    {
     "data": {
      "text/html": [
       "<div>\n",
       "<style scoped>\n",
       "    .dataframe tbody tr th:only-of-type {\n",
       "        vertical-align: middle;\n",
       "    }\n",
       "\n",
       "    .dataframe tbody tr th {\n",
       "        vertical-align: top;\n",
       "    }\n",
       "\n",
       "    .dataframe thead th {\n",
       "        text-align: right;\n",
       "    }\n",
       "</style>\n",
       "<table border=\"1\" class=\"dataframe\">\n",
       "  <thead>\n",
       "    <tr style=\"text-align: right;\">\n",
       "      <th></th>\n",
       "      <th>Year</th>\n",
       "      <th>type</th>\n",
       "      <th>value</th>\n",
       "    </tr>\n",
       "  </thead>\n",
       "  <tbody>\n",
       "    <tr>\n",
       "      <th>0</th>\n",
       "      <td>2007</td>\n",
       "      <td>2 W</td>\n",
       "      <td>8051923</td>\n",
       "    </tr>\n",
       "    <tr>\n",
       "      <th>1</th>\n",
       "      <td>2007</td>\n",
       "      <td>4 W</td>\n",
       "      <td>1666412</td>\n",
       "    </tr>\n",
       "    <tr>\n",
       "      <th>2</th>\n",
       "      <td>2008</td>\n",
       "      <td>2 W</td>\n",
       "      <td>8415308</td>\n",
       "    </tr>\n",
       "    <tr>\n",
       "      <th>3</th>\n",
       "      <td>2008</td>\n",
       "      <td>4 W</td>\n",
       "      <td>1780665</td>\n",
       "    </tr>\n",
       "    <tr>\n",
       "      <th>4</th>\n",
       "      <td>2009</td>\n",
       "      <td>2 W</td>\n",
       "      <td>10508248</td>\n",
       "    </tr>\n",
       "  </tbody>\n",
       "</table>\n",
       "</div>"
      ],
      "text/plain": [
       "   Year type     value\n",
       "0  2007  2 W   8051923\n",
       "1  2007  4 W   1666412\n",
       "2  2008  2 W   8415308\n",
       "3  2008  4 W   1780665\n",
       "4  2009  2 W  10508248"
      ]
     },
     "execution_count": 31,
     "metadata": {},
     "output_type": "execute_result"
    }
   ],
   "source": [
    "required_all_df.head()"
   ]
  },
  {
   "cell_type": "code",
   "execution_count": 32,
   "metadata": {},
   "outputs": [
    {
     "data": {
      "text/html": [
       "<div>\n",
       "<style scoped>\n",
       "    .dataframe tbody tr th:only-of-type {\n",
       "        vertical-align: middle;\n",
       "    }\n",
       "\n",
       "    .dataframe tbody tr th {\n",
       "        vertical-align: top;\n",
       "    }\n",
       "\n",
       "    .dataframe thead th {\n",
       "        text-align: right;\n",
       "    }\n",
       "</style>\n",
       "<table border=\"1\" class=\"dataframe\">\n",
       "  <thead>\n",
       "    <tr style=\"text-align: right;\">\n",
       "      <th></th>\n",
       "      <th>2 W</th>\n",
       "      <th>3 W</th>\n",
       "      <th>4 W</th>\n",
       "      <th>BUS</th>\n",
       "      <th>TOTAL</th>\n",
       "      <th>year</th>\n",
       "      <th>month</th>\n",
       "    </tr>\n",
       "  </thead>\n",
       "  <tbody>\n",
       "    <tr>\n",
       "      <th>0</th>\n",
       "      <td>96</td>\n",
       "      <td>4748</td>\n",
       "      <td>198</td>\n",
       "      <td>0</td>\n",
       "      <td>5042</td>\n",
       "      <td>2017</td>\n",
       "      <td>4</td>\n",
       "    </tr>\n",
       "    <tr>\n",
       "      <th>1</th>\n",
       "      <td>91</td>\n",
       "      <td>6720</td>\n",
       "      <td>215</td>\n",
       "      <td>2</td>\n",
       "      <td>7028</td>\n",
       "      <td>2017</td>\n",
       "      <td>5</td>\n",
       "    </tr>\n",
       "    <tr>\n",
       "      <th>2</th>\n",
       "      <td>137</td>\n",
       "      <td>7178</td>\n",
       "      <td>149</td>\n",
       "      <td>1</td>\n",
       "      <td>7465</td>\n",
       "      <td>2017</td>\n",
       "      <td>6</td>\n",
       "    </tr>\n",
       "    <tr>\n",
       "      <th>3</th>\n",
       "      <td>116</td>\n",
       "      <td>8775</td>\n",
       "      <td>120</td>\n",
       "      <td>0</td>\n",
       "      <td>9011</td>\n",
       "      <td>2017</td>\n",
       "      <td>7</td>\n",
       "    </tr>\n",
       "    <tr>\n",
       "      <th>4</th>\n",
       "      <td>99</td>\n",
       "      <td>8905</td>\n",
       "      <td>137</td>\n",
       "      <td>0</td>\n",
       "      <td>9141</td>\n",
       "      <td>2017</td>\n",
       "      <td>8</td>\n",
       "    </tr>\n",
       "  </tbody>\n",
       "</table>\n",
       "</div>"
      ],
      "text/plain": [
       "   2 W   3 W  4 W  BUS  TOTAL  year  month\n",
       "0   96  4748  198    0   5042  2017      4\n",
       "1   91  6720  215    2   7028  2017      5\n",
       "2  137  7178  149    1   7465  2017      6\n",
       "3  116  8775  120    0   9011  2017      7\n",
       "4   99  8905  137    0   9141  2017      8"
      ]
     },
     "execution_count": 32,
     "metadata": {},
     "output_type": "execute_result"
    }
   ],
   "source": [
    "ev_df.head()"
   ]
  },
  {
   "cell_type": "code",
   "execution_count": 33,
   "metadata": {},
   "outputs": [],
   "source": [
    "required_ev_df = ev_df.groupby(by=[\"year\"]).sum().reset_index()"
   ]
  },
  {
   "cell_type": "code",
   "execution_count": 34,
   "metadata": {},
   "outputs": [
    {
     "data": {
      "text/html": [
       "<div>\n",
       "<style scoped>\n",
       "    .dataframe tbody tr th:only-of-type {\n",
       "        vertical-align: middle;\n",
       "    }\n",
       "\n",
       "    .dataframe tbody tr th {\n",
       "        vertical-align: top;\n",
       "    }\n",
       "\n",
       "    .dataframe thead th {\n",
       "        text-align: right;\n",
       "    }\n",
       "</style>\n",
       "<table border=\"1\" class=\"dataframe\">\n",
       "  <thead>\n",
       "    <tr style=\"text-align: right;\">\n",
       "      <th></th>\n",
       "      <th>year</th>\n",
       "      <th>2 W</th>\n",
       "      <th>3 W</th>\n",
       "      <th>4 W</th>\n",
       "      <th>BUS</th>\n",
       "      <th>TOTAL</th>\n",
       "      <th>month</th>\n",
       "    </tr>\n",
       "  </thead>\n",
       "  <tbody>\n",
       "    <tr>\n",
       "      <th>0</th>\n",
       "      <td>2017</td>\n",
       "      <td>1211</td>\n",
       "      <td>69307</td>\n",
       "      <td>1591</td>\n",
       "      <td>14</td>\n",
       "      <td>72123</td>\n",
       "      <td>72</td>\n",
       "    </tr>\n",
       "    <tr>\n",
       "      <th>1</th>\n",
       "      <td>2018</td>\n",
       "      <td>17062</td>\n",
       "      <td>110375</td>\n",
       "      <td>2500</td>\n",
       "      <td>680</td>\n",
       "      <td>130617</td>\n",
       "      <td>78</td>\n",
       "    </tr>\n",
       "    <tr>\n",
       "      <th>2</th>\n",
       "      <td>2019</td>\n",
       "      <td>30389</td>\n",
       "      <td>133489</td>\n",
       "      <td>1749</td>\n",
       "      <td>1093</td>\n",
       "      <td>166720</td>\n",
       "      <td>78</td>\n",
       "    </tr>\n",
       "    <tr>\n",
       "      <th>3</th>\n",
       "      <td>2020</td>\n",
       "      <td>29112</td>\n",
       "      <td>90361</td>\n",
       "      <td>4323</td>\n",
       "      <td>88</td>\n",
       "      <td>123884</td>\n",
       "      <td>78</td>\n",
       "    </tr>\n",
       "    <tr>\n",
       "      <th>4</th>\n",
       "      <td>2021</td>\n",
       "      <td>156182</td>\n",
       "      <td>147180</td>\n",
       "      <td>14142</td>\n",
       "      <td>1180</td>\n",
       "      <td>318684</td>\n",
       "      <td>78</td>\n",
       "    </tr>\n",
       "  </tbody>\n",
       "</table>\n",
       "</div>"
      ],
      "text/plain": [
       "   year     2 W     3 W    4 W   BUS   TOTAL  month\n",
       "0  2017    1211   69307   1591    14   72123     72\n",
       "1  2018   17062  110375   2500   680  130617     78\n",
       "2  2019   30389  133489   1749  1093  166720     78\n",
       "3  2020   29112   90361   4323    88  123884     78\n",
       "4  2021  156182  147180  14142  1180  318684     78"
      ]
     },
     "execution_count": 34,
     "metadata": {},
     "output_type": "execute_result"
    }
   ],
   "source": [
    "required_ev_df.head()"
   ]
  },
  {
   "cell_type": "markdown",
   "metadata": {},
   "source": [
    "#### 3.1) Feature Engineering"
   ]
  },
  {
   "cell_type": "code",
   "execution_count": 35,
   "metadata": {},
   "outputs": [
    {
     "data": {
      "text/html": [
       "<div>\n",
       "<style scoped>\n",
       "    .dataframe tbody tr th:only-of-type {\n",
       "        vertical-align: middle;\n",
       "    }\n",
       "\n",
       "    .dataframe tbody tr th {\n",
       "        vertical-align: top;\n",
       "    }\n",
       "\n",
       "    .dataframe thead th {\n",
       "        text-align: right;\n",
       "    }\n",
       "</style>\n",
       "<table border=\"1\" class=\"dataframe\">\n",
       "  <thead>\n",
       "    <tr style=\"text-align: right;\">\n",
       "      <th></th>\n",
       "      <th>Year</th>\n",
       "      <th>type</th>\n",
       "      <th>value</th>\n",
       "    </tr>\n",
       "  </thead>\n",
       "  <tbody>\n",
       "    <tr>\n",
       "      <th>0</th>\n",
       "      <td>2007</td>\n",
       "      <td>2 W</td>\n",
       "      <td>8051923</td>\n",
       "    </tr>\n",
       "    <tr>\n",
       "      <th>2</th>\n",
       "      <td>2008</td>\n",
       "      <td>2 W</td>\n",
       "      <td>8415308</td>\n",
       "    </tr>\n",
       "    <tr>\n",
       "      <th>4</th>\n",
       "      <td>2009</td>\n",
       "      <td>2 W</td>\n",
       "      <td>10508248</td>\n",
       "    </tr>\n",
       "    <tr>\n",
       "      <th>6</th>\n",
       "      <td>2010</td>\n",
       "      <td>2 W</td>\n",
       "      <td>13329895</td>\n",
       "    </tr>\n",
       "    <tr>\n",
       "      <th>8</th>\n",
       "      <td>2011</td>\n",
       "      <td>2 W</td>\n",
       "      <td>15384261</td>\n",
       "    </tr>\n",
       "    <tr>\n",
       "      <th>10</th>\n",
       "      <td>2012</td>\n",
       "      <td>2 W</td>\n",
       "      <td>15758689</td>\n",
       "    </tr>\n",
       "    <tr>\n",
       "      <th>12</th>\n",
       "      <td>2013</td>\n",
       "      <td>2 W</td>\n",
       "      <td>16890778</td>\n",
       "    </tr>\n",
       "    <tr>\n",
       "      <th>14</th>\n",
       "      <td>2014</td>\n",
       "      <td>2 W</td>\n",
       "      <td>18462178</td>\n",
       "    </tr>\n",
       "    <tr>\n",
       "      <th>16</th>\n",
       "      <td>2015</td>\n",
       "      <td>2 W</td>\n",
       "      <td>18938727</td>\n",
       "    </tr>\n",
       "    <tr>\n",
       "      <th>18</th>\n",
       "      <td>2016</td>\n",
       "      <td>2 W</td>\n",
       "      <td>19930015</td>\n",
       "    </tr>\n",
       "    <tr>\n",
       "      <th>20</th>\n",
       "      <td>2017</td>\n",
       "      <td>2 W</td>\n",
       "      <td>20200117</td>\n",
       "    </tr>\n",
       "    <tr>\n",
       "      <th>22</th>\n",
       "      <td>2018</td>\n",
       "      <td>2 W</td>\n",
       "      <td>21179847</td>\n",
       "    </tr>\n",
       "    <tr>\n",
       "      <th>24</th>\n",
       "      <td>2019</td>\n",
       "      <td>2 W</td>\n",
       "      <td>17417616</td>\n",
       "    </tr>\n",
       "  </tbody>\n",
       "</table>\n",
       "</div>"
      ],
      "text/plain": [
       "    Year type     value\n",
       "0   2007  2 W   8051923\n",
       "2   2008  2 W   8415308\n",
       "4   2009  2 W  10508248\n",
       "6   2010  2 W  13329895\n",
       "8   2011  2 W  15384261\n",
       "10  2012  2 W  15758689\n",
       "12  2013  2 W  16890778\n",
       "14  2014  2 W  18462178\n",
       "16  2015  2 W  18938727\n",
       "18  2016  2 W  19930015\n",
       "20  2017  2 W  20200117\n",
       "22  2018  2 W  21179847\n",
       "24  2019  2 W  17417616"
      ]
     },
     "execution_count": 35,
     "metadata": {},
     "output_type": "execute_result"
    }
   ],
   "source": [
    "required_all_df[required_all_df[\"type\"]==\"2 W\"]"
   ]
  },
  {
   "cell_type": "code",
   "execution_count": 36,
   "metadata": {},
   "outputs": [
    {
     "data": {
      "text/plain": [
       "13"
      ]
     },
     "execution_count": 36,
     "metadata": {},
     "output_type": "execute_result"
    }
   ],
   "source": [
    "len(required_all_df[required_all_df[\"type\"]==\"4 W\"])\n",
    "\n",
    "# There are 13 items, which means 1 for each year"
   ]
  },
  {
   "cell_type": "code",
   "execution_count": 37,
   "metadata": {},
   "outputs": [
    {
     "name": "stdout",
     "output_type": "stream",
     "text": [
      "Index(['year', '2 W', '3 W', '4 W', 'BUS', 'TOTAL', 'month'], dtype='object')\n"
     ]
    }
   ],
   "source": [
    "# Using \"for loop\" and extracting only the required data for creating \"required_all_df\"\n",
    "\n",
    "temp_list = []\n",
    "current_year = 2007\n",
    "for two_w, four_w in zip(required_all_df[required_all_df[\"type\"]==\"2 W\"][\"value\"], required_all_df[required_all_df[\"type\"]==\"4 W\"][\"value\"]):\n",
    "    #print(two_w, four_w)\n",
    "    temp_list.append([current_year, two_w, four_w])\n",
    "    current_year = current_year + 1\n",
    "\n",
    "print(required_ev_df.columns)\n",
    "\n",
    "# OVERWRITING required_all_df with latest transformation !!!\n",
    "required_all_df = pd.DataFrame(temp_list, columns=[\"year\",\"2 W\",\"4 W\"])"
   ]
  },
  {
   "cell_type": "code",
   "execution_count": 38,
   "metadata": {},
   "outputs": [],
   "source": [
    "from copy import deepcopy\n",
    "ALL_required_df = deepcopy(required_all_df)\n",
    "EV_required_df = deepcopy(required_ev_df)"
   ]
  },
  {
   "cell_type": "code",
   "execution_count": 39,
   "metadata": {},
   "outputs": [
    {
     "data": {
      "text/html": [
       "<div>\n",
       "<style scoped>\n",
       "    .dataframe tbody tr th:only-of-type {\n",
       "        vertical-align: middle;\n",
       "    }\n",
       "\n",
       "    .dataframe tbody tr th {\n",
       "        vertical-align: top;\n",
       "    }\n",
       "\n",
       "    .dataframe thead th {\n",
       "        text-align: right;\n",
       "    }\n",
       "</style>\n",
       "<table border=\"1\" class=\"dataframe\">\n",
       "  <thead>\n",
       "    <tr style=\"text-align: right;\">\n",
       "      <th></th>\n",
       "      <th>year</th>\n",
       "      <th>2 W</th>\n",
       "      <th>4 W</th>\n",
       "      <th>TOTAL</th>\n",
       "    </tr>\n",
       "  </thead>\n",
       "  <tbody>\n",
       "    <tr>\n",
       "      <th>0</th>\n",
       "      <td>2007</td>\n",
       "      <td>8051923</td>\n",
       "      <td>1666412</td>\n",
       "      <td>9718335</td>\n",
       "    </tr>\n",
       "    <tr>\n",
       "      <th>1</th>\n",
       "      <td>2008</td>\n",
       "      <td>8415308</td>\n",
       "      <td>1780665</td>\n",
       "      <td>10195973</td>\n",
       "    </tr>\n",
       "    <tr>\n",
       "      <th>2</th>\n",
       "      <td>2009</td>\n",
       "      <td>10508248</td>\n",
       "      <td>2245609</td>\n",
       "      <td>12753857</td>\n",
       "    </tr>\n",
       "    <tr>\n",
       "      <th>3</th>\n",
       "      <td>2010</td>\n",
       "      <td>13329895</td>\n",
       "      <td>2758106</td>\n",
       "      <td>16088001</td>\n",
       "    </tr>\n",
       "    <tr>\n",
       "      <th>4</th>\n",
       "      <td>2011</td>\n",
       "      <td>15384261</td>\n",
       "      <td>2901845</td>\n",
       "      <td>18286106</td>\n",
       "    </tr>\n",
       "  </tbody>\n",
       "</table>\n",
       "</div>"
      ],
      "text/plain": [
       "   year       2 W      4 W     TOTAL\n",
       "0  2007   8051923  1666412   9718335\n",
       "1  2008   8415308  1780665  10195973\n",
       "2  2009  10508248  2245609  12753857\n",
       "3  2010  13329895  2758106  16088001\n",
       "4  2011  15384261  2901845  18286106"
      ]
     },
     "execution_count": 39,
     "metadata": {},
     "output_type": "execute_result"
    }
   ],
   "source": [
    "ALL_required_df[\"TOTAL\"] = ALL_required_df[\"2 W\"] + ALL_required_df[\"4 W\"]\n",
    "ALL_required_df.head()"
   ]
  },
  {
   "cell_type": "code",
   "execution_count": 40,
   "metadata": {},
   "outputs": [],
   "source": [
    "EV_actual_df = deepcopy(EV_required_df)"
   ]
  },
  {
   "cell_type": "code",
   "execution_count": 41,
   "metadata": {},
   "outputs": [
    {
     "data": {
      "text/html": [
       "<div>\n",
       "<style scoped>\n",
       "    .dataframe tbody tr th:only-of-type {\n",
       "        vertical-align: middle;\n",
       "    }\n",
       "\n",
       "    .dataframe tbody tr th {\n",
       "        vertical-align: top;\n",
       "    }\n",
       "\n",
       "    .dataframe thead th {\n",
       "        text-align: right;\n",
       "    }\n",
       "</style>\n",
       "<table border=\"1\" class=\"dataframe\">\n",
       "  <thead>\n",
       "    <tr style=\"text-align: right;\">\n",
       "      <th></th>\n",
       "      <th>year</th>\n",
       "      <th>2 W</th>\n",
       "      <th>4 W</th>\n",
       "    </tr>\n",
       "  </thead>\n",
       "  <tbody>\n",
       "    <tr>\n",
       "      <th>0</th>\n",
       "      <td>2017</td>\n",
       "      <td>1211</td>\n",
       "      <td>1591</td>\n",
       "    </tr>\n",
       "    <tr>\n",
       "      <th>1</th>\n",
       "      <td>2018</td>\n",
       "      <td>17062</td>\n",
       "      <td>2500</td>\n",
       "    </tr>\n",
       "    <tr>\n",
       "      <th>2</th>\n",
       "      <td>2019</td>\n",
       "      <td>30389</td>\n",
       "      <td>1749</td>\n",
       "    </tr>\n",
       "    <tr>\n",
       "      <th>3</th>\n",
       "      <td>2020</td>\n",
       "      <td>29112</td>\n",
       "      <td>4323</td>\n",
       "    </tr>\n",
       "    <tr>\n",
       "      <th>4</th>\n",
       "      <td>2021</td>\n",
       "      <td>156182</td>\n",
       "      <td>14142</td>\n",
       "    </tr>\n",
       "  </tbody>\n",
       "</table>\n",
       "</div>"
      ],
      "text/plain": [
       "   year     2 W    4 W\n",
       "0  2017    1211   1591\n",
       "1  2018   17062   2500\n",
       "2  2019   30389   1749\n",
       "3  2020   29112   4323\n",
       "4  2021  156182  14142"
      ]
     },
     "execution_count": 41,
     "metadata": {},
     "output_type": "execute_result"
    }
   ],
   "source": [
    "EV_required_df = EV_required_df.drop(columns=[\"3 W\", \"BUS\", \"TOTAL\", \"month\"])\n",
    "EV_required_df.head()"
   ]
  },
  {
   "cell_type": "code",
   "execution_count": 42,
   "metadata": {},
   "outputs": [],
   "source": [
    "EV_required_df[\"TOTAL\"] = EV_required_df[\"2 W\"] + EV_required_df[\"4 W\"]"
   ]
  },
  {
   "cell_type": "code",
   "execution_count": 43,
   "metadata": {},
   "outputs": [
    {
     "data": {
      "text/plain": [
       "0    2017\n",
       "1    2018\n",
       "2    2019\n",
       "3    2020\n",
       "4    2021\n",
       "5    2022\n",
       "6    2023\n",
       "Name: year, dtype: int64"
      ]
     },
     "execution_count": 43,
     "metadata": {},
     "output_type": "execute_result"
    }
   ],
   "source": [
    "EV_required_df[\"year\"]"
   ]
  },
  {
   "cell_type": "code",
   "execution_count": 44,
   "metadata": {},
   "outputs": [
    {
     "data": {
      "text/plain": [
       "0     2007\n",
       "1     2008\n",
       "2     2009\n",
       "3     2010\n",
       "4     2011\n",
       "5     2012\n",
       "6     2013\n",
       "7     2014\n",
       "8     2015\n",
       "9     2016\n",
       "10    2017\n",
       "11    2018\n",
       "12    2019\n",
       "Name: year, dtype: int64"
      ]
     },
     "execution_count": 44,
     "metadata": {},
     "output_type": "execute_result"
    }
   ],
   "source": [
    "ALL_required_df[\"year\"]"
   ]
  },
  {
   "cell_type": "code",
   "execution_count": 45,
   "metadata": {},
   "outputs": [
    {
     "data": {
      "text/html": [
       "<div>\n",
       "<style scoped>\n",
       "    .dataframe tbody tr th:only-of-type {\n",
       "        vertical-align: middle;\n",
       "    }\n",
       "\n",
       "    .dataframe tbody tr th {\n",
       "        vertical-align: top;\n",
       "    }\n",
       "\n",
       "    .dataframe thead th {\n",
       "        text-align: right;\n",
       "    }\n",
       "</style>\n",
       "<table border=\"1\" class=\"dataframe\">\n",
       "  <thead>\n",
       "    <tr style=\"text-align: right;\">\n",
       "      <th></th>\n",
       "      <th>year</th>\n",
       "      <th>2 W</th>\n",
       "      <th>4 W</th>\n",
       "      <th>TOTAL</th>\n",
       "    </tr>\n",
       "  </thead>\n",
       "  <tbody>\n",
       "    <tr>\n",
       "      <th>0</th>\n",
       "      <td>2017</td>\n",
       "      <td>1211</td>\n",
       "      <td>1591</td>\n",
       "      <td>2802</td>\n",
       "    </tr>\n",
       "    <tr>\n",
       "      <th>1</th>\n",
       "      <td>2018</td>\n",
       "      <td>17062</td>\n",
       "      <td>2500</td>\n",
       "      <td>19562</td>\n",
       "    </tr>\n",
       "    <tr>\n",
       "      <th>2</th>\n",
       "      <td>2019</td>\n",
       "      <td>30389</td>\n",
       "      <td>1749</td>\n",
       "      <td>32138</td>\n",
       "    </tr>\n",
       "    <tr>\n",
       "      <th>3</th>\n",
       "      <td>2020</td>\n",
       "      <td>29112</td>\n",
       "      <td>4323</td>\n",
       "      <td>33435</td>\n",
       "    </tr>\n",
       "    <tr>\n",
       "      <th>4</th>\n",
       "      <td>2021</td>\n",
       "      <td>156182</td>\n",
       "      <td>14142</td>\n",
       "      <td>170324</td>\n",
       "    </tr>\n",
       "  </tbody>\n",
       "</table>\n",
       "</div>"
      ],
      "text/plain": [
       "   year     2 W    4 W   TOTAL\n",
       "0  2017    1211   1591    2802\n",
       "1  2018   17062   2500   19562\n",
       "2  2019   30389   1749   32138\n",
       "3  2020   29112   4323   33435\n",
       "4  2021  156182  14142  170324"
      ]
     },
     "execution_count": 45,
     "metadata": {},
     "output_type": "execute_result"
    }
   ],
   "source": [
    "EV_required_df.head()"
   ]
  },
  {
   "cell_type": "code",
   "execution_count": 46,
   "metadata": {},
   "outputs": [
    {
     "data": {
      "text/html": [
       "<div>\n",
       "<style scoped>\n",
       "    .dataframe tbody tr th:only-of-type {\n",
       "        vertical-align: middle;\n",
       "    }\n",
       "\n",
       "    .dataframe tbody tr th {\n",
       "        vertical-align: top;\n",
       "    }\n",
       "\n",
       "    .dataframe thead th {\n",
       "        text-align: right;\n",
       "    }\n",
       "</style>\n",
       "<table border=\"1\" class=\"dataframe\">\n",
       "  <thead>\n",
       "    <tr style=\"text-align: right;\">\n",
       "      <th></th>\n",
       "      <th>year</th>\n",
       "      <th>2 W</th>\n",
       "      <th>4 W</th>\n",
       "      <th>TOTAL</th>\n",
       "    </tr>\n",
       "  </thead>\n",
       "  <tbody>\n",
       "    <tr>\n",
       "      <th>0</th>\n",
       "      <td>2007</td>\n",
       "      <td>8051923</td>\n",
       "      <td>1666412</td>\n",
       "      <td>9718335</td>\n",
       "    </tr>\n",
       "    <tr>\n",
       "      <th>1</th>\n",
       "      <td>2008</td>\n",
       "      <td>8415308</td>\n",
       "      <td>1780665</td>\n",
       "      <td>10195973</td>\n",
       "    </tr>\n",
       "    <tr>\n",
       "      <th>2</th>\n",
       "      <td>2009</td>\n",
       "      <td>10508248</td>\n",
       "      <td>2245609</td>\n",
       "      <td>12753857</td>\n",
       "    </tr>\n",
       "    <tr>\n",
       "      <th>3</th>\n",
       "      <td>2010</td>\n",
       "      <td>13329895</td>\n",
       "      <td>2758106</td>\n",
       "      <td>16088001</td>\n",
       "    </tr>\n",
       "    <tr>\n",
       "      <th>4</th>\n",
       "      <td>2011</td>\n",
       "      <td>15384261</td>\n",
       "      <td>2901845</td>\n",
       "      <td>18286106</td>\n",
       "    </tr>\n",
       "  </tbody>\n",
       "</table>\n",
       "</div>"
      ],
      "text/plain": [
       "   year       2 W      4 W     TOTAL\n",
       "0  2007   8051923  1666412   9718335\n",
       "1  2008   8415308  1780665  10195973\n",
       "2  2009  10508248  2245609  12753857\n",
       "3  2010  13329895  2758106  16088001\n",
       "4  2011  15384261  2901845  18286106"
      ]
     },
     "execution_count": 46,
     "metadata": {},
     "output_type": "execute_result"
    }
   ],
   "source": [
    "ALL_required_df.head()"
   ]
  },
  {
   "cell_type": "markdown",
   "metadata": {},
   "source": [
    "#### 3.2) Plotting and Visualizing the Features"
   ]
  },
  {
   "cell_type": "code",
   "execution_count": 47,
   "metadata": {},
   "outputs": [
    {
     "data": {
      "text/plain": [
       "[<matplotlib.axis.XTick at 0x248a72af250>,\n",
       " <matplotlib.axis.XTick at 0x248a72af220>,\n",
       " <matplotlib.axis.XTick at 0x248a72aeb90>,\n",
       " <matplotlib.axis.XTick at 0x248a40f9e40>,\n",
       " <matplotlib.axis.XTick at 0x248a40fa8f0>,\n",
       " <matplotlib.axis.XTick at 0x248a40fb3a0>,\n",
       " <matplotlib.axis.XTick at 0x248a40fbe50>]"
      ]
     },
     "execution_count": 47,
     "metadata": {},
     "output_type": "execute_result"
    },
    {
     "data": {
      "image/png": "[encoded data removed]",
      "text/plain": [
       "<Figure size 800x300 with 2 Axes>"
      ]
     },
     "metadata": {},
     "output_type": "display_data"
    }
   ],
   "source": [
    "import matplotlib.pyplot as plt\n",
    "\n",
    "fig, axes = plt.subplots(1,2)\n",
    "fig.set_figwidth(8)\n",
    "fig.set_figheight(3)\n",
    "\n",
    "axes[0].plot(EV_required_df[\"year\"], EV_required_df[\"2 W\"])\n",
    "axes[0].plot(EV_required_df[\"year\"], EV_required_df[\"4 W\"])\n",
    "axes[0].legend([\"2 W\",\"4 W\"])\n",
    "axes[0].set_title(\"EV Vehicles plot\")\n",
    "\n",
    "\n",
    "axes[1].plot(ALL_required_df[\"year\"], ALL_required_df[\"2 W\"])\n",
    "axes[1].plot(ALL_required_df[\"year\"], ALL_required_df[\"4 W\"])\n",
    "axes[1].legend([\"2 W\",\"4 W\"])\n",
    "axes[1].set_title(\"ALL Vehicles plot\")\n",
    "\n",
    "\n",
    "# 1.5 * 10^7 = 1,50,00,000\n",
    "# \"tick\" --> related to the axis markings\n",
    "\n",
    "#axes[1].set_xticklabels([2007])\n",
    "#axes[1].set_xticks([2007, 2008, 2009, 2010, 2011, 2012, 2013, 2014, 2015, 2016, 2017, 2018, 2019])\n",
    "axes[1].set_xticks([2007, 2009, 2011, 2013, 2015, 2017, 2019])"
   ]
  },
  {
   "cell_type": "code",
   "execution_count": 48,
   "metadata": {},
   "outputs": [],
   "source": [
    "# In 2017, the sales of EV 2W vehicle was very low\n",
    "# But in 2022, the sale of EV 2W was at the peak maximum\n",
    "# Eventually in 2023, there is a slight downfall of EV 2W sales"
   ]
  },
  {
   "cell_type": "code",
   "execution_count": 49,
   "metadata": {},
   "outputs": [
    {
     "data": {
      "text/plain": [
       "Text(0.5, 1.0, 'Electric Vehicles')"
      ]
     },
     "execution_count": 49,
     "metadata": {},
     "output_type": "execute_result"
    },
    {
     "data": {
      "image/png": "[encoded data removed]",
      "text/plain": [
       "<Figure size 640x480 with 1 Axes>"
      ]
     },
     "metadata": {},
     "output_type": "display_data"
    }
   ],
   "source": [
    "import seaborn as sns\n",
    "\n",
    "sns.histplot(EV_required_df[\"2 W\"], kde=True)\n",
    "plt.title(\"Electric Vehicles\")"
   ]
  },
  {
   "cell_type": "code",
   "execution_count": 50,
   "metadata": {},
   "outputs": [
    {
     "data": {
      "text/plain": [
       "Text(0.5, 1.0, 'ALL Vehicles')"
      ]
     },
     "execution_count": 50,
     "metadata": {},
     "output_type": "execute_result"
    },
    {
     "data": {
      "image/png": "[encoded data removed]",
      "text/plain": [
       "<Figure size 640x480 with 1 Axes>"
      ]
     },
     "metadata": {},
     "output_type": "display_data"
    }
   ],
   "source": [
    "import seaborn as sns\n",
    "\n",
    "sns.histplot(ALL_required_df[\"2 W\"], kde=True)\n",
    "plt.title(\"ALL Vehicles\")"
   ]
  },
  {
   "cell_type": "code",
   "execution_count": null,
   "metadata": {},
   "outputs": [],
   "source": []
  },
  {
   "cell_type": "code",
   "execution_count": 51,
   "metadata": {},
   "outputs": [
    {
     "data": {
      "text/plain": [
       "<Axes: >"
      ]
     },
     "execution_count": 51,
     "metadata": {},
     "output_type": "execute_result"
    },
    {
     "data": {
      "image/png": "[encoded data removed]",
      "text/plain": [
       "<Figure size 640x480 with 1 Axes>"
      ]
     },
     "metadata": {},
     "output_type": "display_data"
    }
   ],
   "source": [
    "EV_required_df[[\"2 W\", \"4 W\"]].plot(kind=\"bar\")"
   ]
  },
  {
   "cell_type": "code",
   "execution_count": 52,
   "metadata": {},
   "outputs": [
    {
     "data": {
      "text/plain": [
       "<Axes: xlabel='year', ylabel='2 W'>"
      ]
     },
     "execution_count": 52,
     "metadata": {},
     "output_type": "execute_result"
    },
    {
     "data": {
      "image/png": "[encoded data removed]",
      "text/plain": [
       "<Figure size 640x480 with 1 Axes>"
      ]
     },
     "metadata": {},
     "output_type": "display_data"
    }
   ],
   "source": [
    "sns.regplot(EV_required_df, x=\"year\", y=\"2 W\")"
   ]
  },
  {
   "cell_type": "code",
   "execution_count": 53,
   "metadata": {},
   "outputs": [
    {
     "data": {
      "text/plain": [
       "<Axes: xlabel='2 W', ylabel='4 W'>"
      ]
     },
     "execution_count": 53,
     "metadata": {},
     "output_type": "execute_result"
    },
    {
     "data": {
      "image/png": "[encoded data removed]",
      "text/plain": [
       "<Figure size 640x480 with 1 Axes>"
      ]
     },
     "metadata": {},
     "output_type": "display_data"
    }
   ],
   "source": [
    "sns.regplot(EV_required_df, x=\"2 W\", y=\"4 W\")"
   ]
  },
  {
   "cell_type": "markdown",
   "metadata": {},
   "source": [
    "#### 3.3) Feature Engineering - Joins"
   ]
  },
  {
   "cell_type": "code",
   "execution_count": 54,
   "metadata": {},
   "outputs": [],
   "source": [
    "# JOIN BOTH DataFrames. Keeping Year as the common Feature."
   ]
  },
  {
   "cell_type": "code",
   "execution_count": 55,
   "metadata": {},
   "outputs": [
    {
     "data": {
      "text/plain": [
       "Index(['year', '2 W', '4 W', 'TOTAL'], dtype='object')"
      ]
     },
     "execution_count": 55,
     "metadata": {},
     "output_type": "execute_result"
    }
   ],
   "source": [
    "EV_required_df.columns"
   ]
  },
  {
   "cell_type": "code",
   "execution_count": 56,
   "metadata": {},
   "outputs": [
    {
     "data": {
      "text/plain": [
       "Index(['year', '2 W', '4 W', 'TOTAL'], dtype='object')"
      ]
     },
     "execution_count": 56,
     "metadata": {},
     "output_type": "execute_result"
    }
   ],
   "source": [
    "ALL_required_df.columns"
   ]
  },
  {
   "cell_type": "code",
   "execution_count": 57,
   "metadata": {},
   "outputs": [
    {
     "name": "stdout",
     "output_type": "stream",
     "text": [
      "[2017, 2018, 2019, 2020, 2021, 2022, 2023]\n",
      "[2007, 2008, 2009, 2010, 2011, 2012, 2013, 2014, 2015, 2016, 2017, 2018, 2019]\n"
     ]
    }
   ],
   "source": [
    "print(list(EV_required_df[\"year\"]))\n",
    "print(list(ALL_required_df[\"year\"]))"
   ]
  },
  {
   "cell_type": "code",
   "execution_count": 58,
   "metadata": {},
   "outputs": [
    {
     "data": {
      "text/html": [
       "<div>\n",
       "<style scoped>\n",
       "    .dataframe tbody tr th:only-of-type {\n",
       "        vertical-align: middle;\n",
       "    }\n",
       "\n",
       "    .dataframe tbody tr th {\n",
       "        vertical-align: top;\n",
       "    }\n",
       "\n",
       "    .dataframe thead th {\n",
       "        text-align: right;\n",
       "    }\n",
       "</style>\n",
       "<table border=\"1\" class=\"dataframe\">\n",
       "  <thead>\n",
       "    <tr style=\"text-align: right;\">\n",
       "      <th></th>\n",
       "      <th>year</th>\n",
       "      <th>2 W_x</th>\n",
       "      <th>4 W_x</th>\n",
       "      <th>TOTAL_x</th>\n",
       "      <th>2 W_y</th>\n",
       "      <th>4 W_y</th>\n",
       "      <th>TOTAL_y</th>\n",
       "    </tr>\n",
       "  </thead>\n",
       "  <tbody>\n",
       "    <tr>\n",
       "      <th>0</th>\n",
       "      <td>2017</td>\n",
       "      <td>1211</td>\n",
       "      <td>1591</td>\n",
       "      <td>2802</td>\n",
       "      <td>20200117</td>\n",
       "      <td>3096346</td>\n",
       "      <td>23296463</td>\n",
       "    </tr>\n",
       "    <tr>\n",
       "      <th>1</th>\n",
       "      <td>2018</td>\n",
       "      <td>17062</td>\n",
       "      <td>2500</td>\n",
       "      <td>19562</td>\n",
       "      <td>21179847</td>\n",
       "      <td>3160590</td>\n",
       "      <td>24340437</td>\n",
       "    </tr>\n",
       "    <tr>\n",
       "      <th>2</th>\n",
       "      <td>2019</td>\n",
       "      <td>30389</td>\n",
       "      <td>1749</td>\n",
       "      <td>32138</td>\n",
       "      <td>17417616</td>\n",
       "      <td>2642393</td>\n",
       "      <td>20060009</td>\n",
       "    </tr>\n",
       "  </tbody>\n",
       "</table>\n",
       "</div>"
      ],
      "text/plain": [
       "   year  2 W_x  4 W_x  TOTAL_x     2 W_y    4 W_y   TOTAL_y\n",
       "0  2017   1211   1591     2802  20200117  3096346  23296463\n",
       "1  2018  17062   2500    19562  21179847  3160590  24340437\n",
       "2  2019  30389   1749    32138  17417616  2642393  20060009"
      ]
     },
     "execution_count": 58,
     "metadata": {},
     "output_type": "execute_result"
    }
   ],
   "source": [
    "EV_required_df.merge(ALL_required_df, on=\"year\", how=\"inner\")"
   ]
  },
  {
   "cell_type": "code",
   "execution_count": 59,
   "metadata": {},
   "outputs": [],
   "source": [
    "COMBINED_df = EV_required_df.merge(ALL_required_df, on=\"year\", how=\"inner\")"
   ]
  },
  {
   "cell_type": "code",
   "execution_count": 60,
   "metadata": {},
   "outputs": [
    {
     "data": {
      "text/html": [
       "<div>\n",
       "<style scoped>\n",
       "    .dataframe tbody tr th:only-of-type {\n",
       "        vertical-align: middle;\n",
       "    }\n",
       "\n",
       "    .dataframe tbody tr th {\n",
       "        vertical-align: top;\n",
       "    }\n",
       "\n",
       "    .dataframe thead th {\n",
       "        text-align: right;\n",
       "    }\n",
       "</style>\n",
       "<table border=\"1\" class=\"dataframe\">\n",
       "  <thead>\n",
       "    <tr style=\"text-align: right;\">\n",
       "      <th></th>\n",
       "      <th>year</th>\n",
       "      <th>2 W_x</th>\n",
       "      <th>4 W_x</th>\n",
       "      <th>TOTAL_x</th>\n",
       "      <th>2 W_y</th>\n",
       "      <th>4 W_y</th>\n",
       "      <th>TOTAL_y</th>\n",
       "    </tr>\n",
       "  </thead>\n",
       "  <tbody>\n",
       "    <tr>\n",
       "      <th>count</th>\n",
       "      <td>3.0</td>\n",
       "      <td>3.000000</td>\n",
       "      <td>3.000000</td>\n",
       "      <td>3.000000</td>\n",
       "      <td>3.000000e+00</td>\n",
       "      <td>3.000000e+00</td>\n",
       "      <td>3.000000e+00</td>\n",
       "    </tr>\n",
       "    <tr>\n",
       "      <th>mean</th>\n",
       "      <td>2018.0</td>\n",
       "      <td>16220.666667</td>\n",
       "      <td>1946.666667</td>\n",
       "      <td>18167.333333</td>\n",
       "      <td>1.959919e+07</td>\n",
       "      <td>2.966443e+06</td>\n",
       "      <td>2.256564e+07</td>\n",
       "    </tr>\n",
       "    <tr>\n",
       "      <th>std</th>\n",
       "      <td>1.0</td>\n",
       "      <td>14607.183244</td>\n",
       "      <td>485.668954</td>\n",
       "      <td>14717.644014</td>\n",
       "      <td>1.951775e+06</td>\n",
       "      <td>2.824679e+05</td>\n",
       "      <td>2.231837e+06</td>\n",
       "    </tr>\n",
       "    <tr>\n",
       "      <th>min</th>\n",
       "      <td>2017.0</td>\n",
       "      <td>1211.000000</td>\n",
       "      <td>1591.000000</td>\n",
       "      <td>2802.000000</td>\n",
       "      <td>1.741762e+07</td>\n",
       "      <td>2.642393e+06</td>\n",
       "      <td>2.006001e+07</td>\n",
       "    </tr>\n",
       "    <tr>\n",
       "      <th>25%</th>\n",
       "      <td>2017.5</td>\n",
       "      <td>9136.500000</td>\n",
       "      <td>1670.000000</td>\n",
       "      <td>11182.000000</td>\n",
       "      <td>1.880887e+07</td>\n",
       "      <td>2.869370e+06</td>\n",
       "      <td>2.167824e+07</td>\n",
       "    </tr>\n",
       "    <tr>\n",
       "      <th>50%</th>\n",
       "      <td>2018.0</td>\n",
       "      <td>17062.000000</td>\n",
       "      <td>1749.000000</td>\n",
       "      <td>19562.000000</td>\n",
       "      <td>2.020012e+07</td>\n",
       "      <td>3.096346e+06</td>\n",
       "      <td>2.329646e+07</td>\n",
       "    </tr>\n",
       "    <tr>\n",
       "      <th>75%</th>\n",
       "      <td>2018.5</td>\n",
       "      <td>23725.500000</td>\n",
       "      <td>2124.500000</td>\n",
       "      <td>25850.000000</td>\n",
       "      <td>2.068998e+07</td>\n",
       "      <td>3.128468e+06</td>\n",
       "      <td>2.381845e+07</td>\n",
       "    </tr>\n",
       "    <tr>\n",
       "      <th>max</th>\n",
       "      <td>2019.0</td>\n",
       "      <td>30389.000000</td>\n",
       "      <td>2500.000000</td>\n",
       "      <td>32138.000000</td>\n",
       "      <td>2.117985e+07</td>\n",
       "      <td>3.160590e+06</td>\n",
       "      <td>2.434044e+07</td>\n",
       "    </tr>\n",
       "  </tbody>\n",
       "</table>\n",
       "</div>"
      ],
      "text/plain": [
       "         year         2 W_x        4 W_x       TOTAL_x         2 W_y  \\\n",
       "count     3.0      3.000000     3.000000      3.000000  3.000000e+00   \n",
       "mean   2018.0  16220.666667  1946.666667  18167.333333  1.959919e+07   \n",
       "std       1.0  14607.183244   485.668954  14717.644014  1.951775e+06   \n",
       "min    2017.0   1211.000000  1591.000000   2802.000000  1.741762e+07   \n",
       "25%    2017.5   9136.500000  1670.000000  11182.000000  1.880887e+07   \n",
       "50%    2018.0  17062.000000  1749.000000  19562.000000  2.020012e+07   \n",
       "75%    2018.5  23725.500000  2124.500000  25850.000000  2.068998e+07   \n",
       "max    2019.0  30389.000000  2500.000000  32138.000000  2.117985e+07   \n",
       "\n",
       "              4 W_y       TOTAL_y  \n",
       "count  3.000000e+00  3.000000e+00  \n",
       "mean   2.966443e+06  2.256564e+07  \n",
       "std    2.824679e+05  2.231837e+06  \n",
       "min    2.642393e+06  2.006001e+07  \n",
       "25%    2.869370e+06  2.167824e+07  \n",
       "50%    3.096346e+06  2.329646e+07  \n",
       "75%    3.128468e+06  2.381845e+07  \n",
       "max    3.160590e+06  2.434044e+07  "
      ]
     },
     "execution_count": 60,
     "metadata": {},
     "output_type": "execute_result"
    }
   ],
   "source": [
    "COMBINED_df.describe()"
   ]
  },
  {
   "cell_type": "code",
   "execution_count": 61,
   "metadata": {},
   "outputs": [],
   "source": [
    "ALL_required_df.columns = [\"year\", \"two_w\", \"four_w\", \"total\"]"
   ]
  },
  {
   "cell_type": "code",
   "execution_count": 62,
   "metadata": {},
   "outputs": [
    {
     "data": {
      "text/html": [
       "<div>\n",
       "<style scoped>\n",
       "    .dataframe tbody tr th:only-of-type {\n",
       "        vertical-align: middle;\n",
       "    }\n",
       "\n",
       "    .dataframe tbody tr th {\n",
       "        vertical-align: top;\n",
       "    }\n",
       "\n",
       "    .dataframe thead th {\n",
       "        text-align: right;\n",
       "    }\n",
       "</style>\n",
       "<table border=\"1\" class=\"dataframe\">\n",
       "  <thead>\n",
       "    <tr style=\"text-align: right;\">\n",
       "      <th></th>\n",
       "      <th>year</th>\n",
       "      <th>two_w</th>\n",
       "      <th>four_w</th>\n",
       "      <th>total</th>\n",
       "    </tr>\n",
       "  </thead>\n",
       "  <tbody>\n",
       "    <tr>\n",
       "      <th>0</th>\n",
       "      <td>2007</td>\n",
       "      <td>8051923</td>\n",
       "      <td>1666412</td>\n",
       "      <td>9718335</td>\n",
       "    </tr>\n",
       "    <tr>\n",
       "      <th>1</th>\n",
       "      <td>2008</td>\n",
       "      <td>8415308</td>\n",
       "      <td>1780665</td>\n",
       "      <td>10195973</td>\n",
       "    </tr>\n",
       "    <tr>\n",
       "      <th>2</th>\n",
       "      <td>2009</td>\n",
       "      <td>10508248</td>\n",
       "      <td>2245609</td>\n",
       "      <td>12753857</td>\n",
       "    </tr>\n",
       "    <tr>\n",
       "      <th>3</th>\n",
       "      <td>2010</td>\n",
       "      <td>13329895</td>\n",
       "      <td>2758106</td>\n",
       "      <td>16088001</td>\n",
       "    </tr>\n",
       "    <tr>\n",
       "      <th>4</th>\n",
       "      <td>2011</td>\n",
       "      <td>15384261</td>\n",
       "      <td>2901845</td>\n",
       "      <td>18286106</td>\n",
       "    </tr>\n",
       "    <tr>\n",
       "      <th>5</th>\n",
       "      <td>2012</td>\n",
       "      <td>15758689</td>\n",
       "      <td>3002048</td>\n",
       "      <td>18760737</td>\n",
       "    </tr>\n",
       "    <tr>\n",
       "      <th>6</th>\n",
       "      <td>2013</td>\n",
       "      <td>16890778</td>\n",
       "      <td>2907316</td>\n",
       "      <td>19798094</td>\n",
       "    </tr>\n",
       "    <tr>\n",
       "      <th>7</th>\n",
       "      <td>2014</td>\n",
       "      <td>18462178</td>\n",
       "      <td>3048822</td>\n",
       "      <td>21511000</td>\n",
       "    </tr>\n",
       "    <tr>\n",
       "      <th>8</th>\n",
       "      <td>2015</td>\n",
       "      <td>18938727</td>\n",
       "      <td>3263044</td>\n",
       "      <td>22201771</td>\n",
       "    </tr>\n",
       "    <tr>\n",
       "      <th>9</th>\n",
       "      <td>2016</td>\n",
       "      <td>19930015</td>\n",
       "      <td>3623792</td>\n",
       "      <td>23553807</td>\n",
       "    </tr>\n",
       "    <tr>\n",
       "      <th>10</th>\n",
       "      <td>2017</td>\n",
       "      <td>20200117</td>\n",
       "      <td>3096346</td>\n",
       "      <td>23296463</td>\n",
       "    </tr>\n",
       "    <tr>\n",
       "      <th>11</th>\n",
       "      <td>2018</td>\n",
       "      <td>21179847</td>\n",
       "      <td>3160590</td>\n",
       "      <td>24340437</td>\n",
       "    </tr>\n",
       "    <tr>\n",
       "      <th>12</th>\n",
       "      <td>2019</td>\n",
       "      <td>17417616</td>\n",
       "      <td>2642393</td>\n",
       "      <td>20060009</td>\n",
       "    </tr>\n",
       "  </tbody>\n",
       "</table>\n",
       "</div>"
      ],
      "text/plain": [
       "    year     two_w   four_w     total\n",
       "0   2007   8051923  1666412   9718335\n",
       "1   2008   8415308  1780665  10195973\n",
       "2   2009  10508248  2245609  12753857\n",
       "3   2010  13329895  2758106  16088001\n",
       "4   2011  15384261  2901845  18286106\n",
       "5   2012  15758689  3002048  18760737\n",
       "6   2013  16890778  2907316  19798094\n",
       "7   2014  18462178  3048822  21511000\n",
       "8   2015  18938727  3263044  22201771\n",
       "9   2016  19930015  3623792  23553807\n",
       "10  2017  20200117  3096346  23296463\n",
       "11  2018  21179847  3160590  24340437\n",
       "12  2019  17417616  2642393  20060009"
      ]
     },
     "execution_count": 62,
     "metadata": {},
     "output_type": "execute_result"
    }
   ],
   "source": [
    "ALL_required_df"
   ]
  },
  {
   "cell_type": "markdown",
   "metadata": {},
   "source": [
    "#### 5.1) Apply \"ML algorithm\" - Univariate"
   ]
  },
  {
   "cell_type": "code",
   "execution_count": 63,
   "metadata": {},
   "outputs": [],
   "source": [
    "import statsmodels.formula.api as smf\n",
    "\n",
    "model1 = smf.ols(formula='four_w ~ two_w', data=ALL_required_df).fit()"
   ]
  },
  {
   "cell_type": "code",
   "execution_count": 64,
   "metadata": {},
   "outputs": [
    {
     "data": {
      "text/plain": [
       "0    908497.399125\n",
       "dtype: float64"
      ]
     },
     "execution_count": 64,
     "metadata": {},
     "output_type": "execute_result"
    }
   ],
   "source": [
    "# This command gives the prediction of \"four_w\" sales count\n",
    "# For the input of \"two_w\" sales, we give 10 as its sales count\n",
    "\n",
    "model1.predict(pd.Series([10], name=\"two_w\"))"
   ]
  },
  {
   "cell_type": "markdown",
   "metadata": {},
   "source": [
    "#### 5.2) Apply \"ML algorithm\" - Multivariate\n",
    "- Refer: https://www.datarobot.com/blog/multiple-regression-using-statsmodels/"
   ]
  },
  {
   "cell_type": "code",
   "execution_count": 65,
   "metadata": {},
   "outputs": [],
   "source": [
    "import statsmodels.formula.api as smf\n",
    "model2 = smf.ols(formula='four_w ~ two_w + total', data=ALL_required_df).fit()"
   ]
  },
  {
   "cell_type": "code",
   "execution_count": 66,
   "metadata": {},
   "outputs": [
    {
     "data": {
      "text/plain": [
       "0    20000.0\n",
       "dtype: float64"
      ]
     },
     "execution_count": 66,
     "metadata": {},
     "output_type": "execute_result"
    }
   ],
   "source": [
    "# This command gives the prediction of \"four_w\" sales count\n",
    "# For the input of \"two_w\" sales, we give 50000 as its sales count\n",
    "# For the input of \"total\" sales, we give 70000 as its sales count\n",
    "\n",
    "model2.predict(pd.DataFrame(data=[[50000,70000]], columns=[\"two_w\",\"total\"]))"
   ]
  },
  {
   "cell_type": "markdown",
   "metadata": {},
   "source": [
    "#### 7) Prediction results summary study"
   ]
  },
  {
   "cell_type": "code",
   "execution_count": 67,
   "metadata": {},
   "outputs": [],
   "source": [
    "predicted_4w_series_model1 = model1.predict(ALL_required_df[[\"two_w\"]])\n",
    "\n",
    "predicted_4w_series_model2 = model2.predict(ALL_required_df[[\"two_w\", \"total\"]])"
   ]
  },
  {
   "cell_type": "code",
   "execution_count": 68,
   "metadata": {},
   "outputs": [
    {
     "data": {
      "text/plain": [
       "<matplotlib.legend.Legend at 0x248a22d3d00>"
      ]
     },
     "execution_count": 68,
     "metadata": {},
     "output_type": "execute_result"
    },
    {
     "data": {
      "image/png": "[encoded data removed]",
      "text/plain": [
       "<Figure size 640x480 with 1 Axes>"
      ]
     },
     "metadata": {},
     "output_type": "display_data"
    }
   ],
   "source": [
    "# NOT 100% accurate - because we used only one input feature (\"2W count\")\n",
    "# For training the model1 with the target \"4W count\"\n",
    "\n",
    "import matplotlib.pyplot as plt\n",
    "\n",
    "plt.scatter(ALL_required_df[\"two_w\"], predicted_4w_series_model1, color=\"red\", label=\"OLS Predicted\")\n",
    "\n",
    "plt.scatter(ALL_required_df[\"two_w\"], ALL_required_df[\"four_w\"], label=\"Actual\")\n",
    "\n",
    "plt.xlabel(\"2 Wheeler\")\n",
    "plt.ylabel(\"4 Wheeler\")\n",
    "\n",
    "plt.legend()"
   ]
  },
  {
   "cell_type": "code",
   "execution_count": 69,
   "metadata": {},
   "outputs": [
    {
     "data": {
      "text/plain": [
       "<matplotlib.legend.Legend at 0x248a7213df0>"
      ]
     },
     "execution_count": 69,
     "metadata": {},
     "output_type": "execute_result"
    },
    {
     "data": {
      "image/png": "[encoded data removed]",
      "text/plain": [
       "<Figure size 640x480 with 1 Axes>"
      ]
     },
     "metadata": {},
     "output_type": "display_data"
    }
   ],
   "source": [
    "# 100% accuracy - because we used two simple logical input features (\"2W count\", \"total\")\n",
    "# For training the model2 with the target \"4W count\"\n",
    "\n",
    "import matplotlib.pyplot as plt\n",
    "\n",
    "plt.scatter(ALL_required_df[\"two_w\"], predicted_4w_series_model2, color=\"red\", label=\"OLS Predicted\")\n",
    "\n",
    "plt.scatter(ALL_required_df[\"two_w\"], ALL_required_df[\"four_w\"], label=\"Actual\")\n",
    "\n",
    "plt.xlabel(\"2 Wheeler\")\n",
    "plt.ylabel(\"4 Wheeler\")\n",
    "\n",
    "plt.legend()"
   ]
  }
 ],
 "metadata": {
  "kernelspec": {
   "display_name": ".venv",
   "language": "python",
   "name": "python3"
  },
  "language_info": {
   "codemirror_mode": {
    "name": "ipython",
    "version": 3
   },
   "file_extension": ".py",
   "mimetype": "text/x-python",
   "name": "python",
   "nbconvert_exporter": "python",
   "pygments_lexer": "ipython3",
   "version": "3.10.2"
  }
 },
 "nbformat": 4,
 "nbformat_minor": 2
}
